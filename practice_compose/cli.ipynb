{
 "cells": [
  {
   "cell_type": "code",
   "execution_count": null,
   "metadata": {},
   "outputs": [],
   "source": [
    "! docker volume create portainer_data\n"
   ]
  },
  {
   "cell_type": "code",
   "execution_count": 2,
   "metadata": {},
   "outputs": [
    {
     "name": "stdout",
     "output_type": "stream",
     "text": [
      "            Name                           Command               State     Ports\n",
      "--------------------------------------------------------------------------------\n",
      "practice_compose_elasticsearc   /usr/local/bin/docker-entr      Exit 143        \n",
      "h_1                             ...                                             \n",
      "practice_compose_jupyter_1      tini -g -- start-notebook.sh    Exit 0          \n"
     ]
    }
   ],
   "source": [
    "!docker-compose ps\n"
   ]
  },
  {
   "cell_type": "code",
   "execution_count": 4,
   "metadata": {},
   "outputs": [
    {
     "name": "stdout",
     "output_type": "stream",
     "text": [
      "Attaching to practice_compose_jupyter_1, practice_compose_elasticsearch_1\n",
      "\u001b[36melasticsearch_1  |\u001b[0m OpenJDK 64-Bit Server VM warning: Option UseConcMarkSweepGC was deprecated in version 9.0 and will likely be removed in a future release.\n",
      "\u001b[36melasticsearch_1  |\u001b[0m {\"type\": \"server\", \"timestamp\": \"2025-03-14T11:03:40,943+0000\", \"level\": \"INFO\", \"component\": \"o.e.e.NodeEnvironment\", \"cluster.name\": \"docker-cluster\", \"node.name\": \"2c6756e3333b\",  \"message\": \"using [1] data paths, mounts [[/ (overlay)]], net usable_space [3.5gb], net total_space [15.4gb], types [overlay]\"  }\n",
      "\u001b[36melasticsearch_1  |\u001b[0m {\"type\": \"server\", \"timestamp\": \"2025-03-14T11:03:40,949+0000\", \"level\": \"INFO\", \"component\": \"o.e.e.NodeEnvironment\", \"cluster.name\": \"docker-cluster\", \"node.name\": \"2c6756e3333b\",  \"message\": \"heap size [1007.3mb], compressed ordinary object pointers [true]\"  }\n",
      "\u001b[36melasticsearch_1  |\u001b[0m {\"type\": \"server\", \"timestamp\": \"2025-03-14T11:03:40,954+0000\", \"level\": \"INFO\", \"component\": \"o.e.n.Node\", \"cluster.name\": \"docker-cluster\", \"node.name\": \"2c6756e3333b\",  \"message\": \"node name [2c6756e3333b], node ID [EY7Nl5iATGGzHbohrf2OLQ], cluster name [docker-cluster]\"  }\n",
      "\u001b[36melasticsearch_1  |\u001b[0m {\"type\": \"server\", \"timestamp\": \"2025-03-14T11:03:40,959+0000\", \"level\": \"INFO\", \"component\": \"o.e.n.Node\", \"cluster.name\": \"docker-cluster\", \"node.name\": \"2c6756e3333b\",  \"message\": \"version[7.2.0], pid[1], build[default/docker/508c38a/2019-06-20T15:54:18.811730Z], OS[Linux/5.15.0-1038-aws/amd64], JVM[Oracle Corporation/OpenJDK 64-Bit Server VM/12.0.1/12.0.1+12]\"  }\n",
      "\u001b[36melasticsearch_1  |\u001b[0m {\"type\": \"server\", \"timestamp\": \"2025-03-14T11:03:40,959+0000\", \"level\": \"INFO\", \"component\": \"o.e.n.Node\", \"cluster.name\": \"docker-cluster\", \"node.name\": \"2c6756e3333b\",  \"message\": \"JVM home [/usr/share/elasticsearch/jdk]\"  }\n",
      "\u001b[36melasticsearch_1  |\u001b[0m {\"type\": \"server\", \"timestamp\": \"2025-03-14T11:03:40,961+0000\", \"level\": \"INFO\", \"component\": \"o.e.n.Node\", \"cluster.name\": \"docker-cluster\", \"node.name\": \"2c6756e3333b\",  \"message\": \"JVM arguments [-Xms1g, -Xmx1g, -XX:+UseConcMarkSweepGC, -XX:CMSInitiatingOccupancyFraction=75, -XX:+UseCMSInitiatingOccupancyOnly, -Des.networkaddress.cache.ttl=60, -Des.networkaddress.cache.negative.ttl=10, -XX:+AlwaysPreTouch, -Xss1m, -Djava.awt.headless=true, -Dfile.encoding=UTF-8, -Djna.nosys=true, -XX:-OmitStackTraceInFastThrow, -Dio.netty.noUnsafe=true, -Dio.netty.noKeySetOptimization=true, -Dio.netty.recycler.maxCapacityPerThread=0, -Dlog4j.shutdownHookEnabled=false, -Dlog4j2.disable.jmx=true, -Djava.io.tmpdir=/tmp/elasticsearch-14216645380866977899, -XX:+HeapDumpOnOutOfMemoryError, -XX:HeapDumpPath=data, -XX:ErrorFile=logs/hs_err_pid%p.log, -Xlog:gc*,gc+age=trace,safepoint:file=logs/gc.log:utctime,pid,tags:filecount=32,filesize=64m, -Djava.locale.providers=COMPAT, -Des.cgroups.hierarchy.override=/, -Dio.netty.allocator.type=unpooled, -XX:MaxDirectMemorySize=536870912, -Des.path.home=/usr/share/elasticsearch, -Des.path.conf=/usr/share/elasticsearch/config, -Des.distribution.flavor=default, -Des.distribution.type=docker, -Des.bundled_jdk=true]\"  }\n",
      "\u001b[36melasticsearch_1  |\u001b[0m {\"type\": \"server\", \"timestamp\": \"2025-03-14T11:03:44,597+0000\", \"level\": \"INFO\", \"component\": \"o.e.p.PluginsService\", \"cluster.name\": \"docker-cluster\", \"node.name\": \"2c6756e3333b\",  \"message\": \"loaded module [aggs-matrix-stats]\"  }\n",
      "\u001b[36melasticsearch_1  |\u001b[0m {\"type\": \"server\", \"timestamp\": \"2025-03-14T11:03:44,597+0000\", \"level\": \"INFO\", \"component\": \"o.e.p.PluginsService\", \"cluster.name\": \"docker-cluster\", \"node.name\": \"2c6756e3333b\",  \"message\": \"loaded module [analysis-common]\"  }\n",
      "\u001b[36melasticsearch_1  |\u001b[0m {\"type\": \"server\", \"timestamp\": \"2025-03-14T11:03:44,598+0000\", \"level\": \"INFO\", \"component\": \"o.e.p.PluginsService\", \"cluster.name\": \"docker-cluster\", \"node.name\": \"2c6756e3333b\",  \"message\": \"loaded module [data-frame]\"  }\n",
      "\u001b[36melasticsearch_1  |\u001b[0m {\"type\": \"server\", \"timestamp\": \"2025-03-14T11:03:44,600+0000\", \"level\": \"INFO\", \"component\": \"o.e.p.PluginsService\", \"cluster.name\": \"docker-cluster\", \"node.name\": \"2c6756e3333b\",  \"message\": \"loaded module [ingest-common]\"  }\n",
      "\u001b[36melasticsearch_1  |\u001b[0m {\"type\": \"server\", \"timestamp\": \"2025-03-14T11:03:44,600+0000\", \"level\": \"INFO\", \"component\": \"o.e.p.PluginsService\", \"cluster.name\": \"docker-cluster\", \"node.name\": \"2c6756e3333b\",  \"message\": \"loaded module [ingest-geoip]\"  }\n",
      "\u001b[36melasticsearch_1  |\u001b[0m {\"type\": \"server\", \"timestamp\": \"2025-03-14T11:03:44,602+0000\", \"level\": \"INFO\", \"component\": \"o.e.p.PluginsService\", \"cluster.name\": \"docker-cluster\", \"node.name\": \"2c6756e3333b\",  \"message\": \"loaded module [ingest-user-agent]\"  }\n",
      "\u001b[36melasticsearch_1  |\u001b[0m {\"type\": \"server\", \"timestamp\": \"2025-03-14T11:03:44,604+0000\", \"level\": \"INFO\", \"component\": \"o.e.p.PluginsService\", \"cluster.name\": \"docker-cluster\", \"node.name\": \"2c6756e3333b\",  \"message\": \"loaded module [lang-expression]\"  }\n",
      "\u001b[36melasticsearch_1  |\u001b[0m {\"type\": \"server\", \"timestamp\": \"2025-03-14T11:03:44,607+0000\", \"level\": \"INFO\", \"component\": \"o.e.p.PluginsService\", \"cluster.name\": \"docker-cluster\", \"node.name\": \"2c6756e3333b\",  \"message\": \"loaded module [lang-mustache]\"  }\n",
      "\u001b[36melasticsearch_1  |\u001b[0m {\"type\": \"server\", \"timestamp\": \"2025-03-14T11:03:44,608+0000\", \"level\": \"INFO\", \"component\": \"o.e.p.PluginsService\", \"cluster.name\": \"docker-cluster\", \"node.name\": \"2c6756e3333b\",  \"message\": \"loaded module [lang-painless]\"  }\n",
      "\u001b[36melasticsearch_1  |\u001b[0m {\"type\": \"server\", \"timestamp\": \"2025-03-14T11:03:44,608+0000\", \"level\": \"INFO\", \"component\": \"o.e.p.PluginsService\", \"cluster.name\": \"docker-cluster\", \"node.name\": \"2c6756e3333b\",  \"message\": \"loaded module [mapper-extras]\"  }\n",
      "\u001b[36melasticsearch_1  |\u001b[0m {\"type\": \"server\", \"timestamp\": \"2025-03-14T11:03:44,609+0000\", \"level\": \"INFO\", \"component\": \"o.e.p.PluginsService\", \"cluster.name\": \"docker-cluster\", \"node.name\": \"2c6756e3333b\",  \"message\": \"loaded module [parent-join]\"  }\n",
      "\u001b[36melasticsearch_1  |\u001b[0m {\"type\": \"server\", \"timestamp\": \"2025-03-14T11:03:44,610+0000\", \"level\": \"INFO\", \"component\": \"o.e.p.PluginsService\", \"cluster.name\": \"docker-cluster\", \"node.name\": \"2c6756e3333b\",  \"message\": \"loaded module [percolator]\"  }\n",
      "\u001b[36melasticsearch_1  |\u001b[0m {\"type\": \"server\", \"timestamp\": \"2025-03-14T11:03:44,611+0000\", \"level\": \"INFO\", \"component\": \"o.e.p.PluginsService\", \"cluster.name\": \"docker-cluster\", \"node.name\": \"2c6756e3333b\",  \"message\": \"loaded module [rank-eval]\"  }\n",
      "\u001b[36melasticsearch_1  |\u001b[0m {\"type\": \"server\", \"timestamp\": \"2025-03-14T11:03:44,611+0000\", \"level\": \"INFO\", \"component\": \"o.e.p.PluginsService\", \"cluster.name\": \"docker-cluster\", \"node.name\": \"2c6756e3333b\",  \"message\": \"loaded module [reindex]\"  }\n",
      "\u001b[36melasticsearch_1  |\u001b[0m {\"type\": \"server\", \"timestamp\": \"2025-03-14T11:03:44,613+0000\", \"level\": \"INFO\", \"component\": \"o.e.p.PluginsService\", \"cluster.name\": \"docker-cluster\", \"node.name\": \"2c6756e3333b\",  \"message\": \"loaded module [repository-url]\"  }\n",
      "\u001b[36melasticsearch_1  |\u001b[0m {\"type\": \"server\", \"timestamp\": \"2025-03-14T11:03:44,614+0000\", \"level\": \"INFO\", \"component\": \"o.e.p.PluginsService\", \"cluster.name\": \"docker-cluster\", \"node.name\": \"2c6756e3333b\",  \"message\": \"loaded module [transport-netty4]\"  }\n",
      "\u001b[36melasticsearch_1  |\u001b[0m {\"type\": \"server\", \"timestamp\": \"2025-03-14T11:03:44,623+0000\", \"level\": \"INFO\", \"component\": \"o.e.p.PluginsService\", \"cluster.name\": \"docker-cluster\", \"node.name\": \"2c6756e3333b\",  \"message\": \"loaded module [x-pack-ccr]\"  }\n",
      "\u001b[36melasticsearch_1  |\u001b[0m {\"type\": \"server\", \"timestamp\": \"2025-03-14T11:03:44,624+0000\", \"level\": \"INFO\", \"component\": \"o.e.p.PluginsService\", \"cluster.name\": \"docker-cluster\", \"node.name\": \"2c6756e3333b\",  \"message\": \"loaded module [x-pack-core]\"  }\n",
      "\u001b[36melasticsearch_1  |\u001b[0m {\"type\": \"server\", \"timestamp\": \"2025-03-14T11:03:44,625+0000\", \"level\": \"INFO\", \"component\": \"o.e.p.PluginsService\", \"cluster.name\": \"docker-cluster\", \"node.name\": \"2c6756e3333b\",  \"message\": \"loaded module [x-pack-deprecation]\"  }\n",
      "\u001b[36melasticsearch_1  |\u001b[0m {\"type\": \"server\", \"timestamp\": \"2025-03-14T11:03:44,626+0000\", \"level\": \"INFO\", \"component\": \"o.e.p.PluginsService\", \"cluster.name\": \"docker-cluster\", \"node.name\": \"2c6756e3333b\",  \"message\": \"loaded module [x-pack-graph]\"  }\n",
      "\u001b[33mjupyter_1        |\u001b[0m Executing the command: jupyter notebook\n",
      "\u001b[33mjupyter_1        |\u001b[0m [I 11:03:35.716 NotebookApp] Writing notebook server cookie secret to /home/jovyan/.local/share/jupyter/runtime/notebook_cookie_secret\n",
      "\u001b[33mjupyter_1        |\u001b[0m [I 11:03:38.215 NotebookApp] JupyterLab extension loaded from /opt/conda/lib/python3.7/site-packages/jupyterlab\n",
      "\u001b[33mjupyter_1        |\u001b[0m [I 11:03:38.215 NotebookApp] JupyterLab application directory is /opt/conda/share/jupyter/lab\n",
      "\u001b[33mjupyter_1        |\u001b[0m [I 11:03:38.223 NotebookApp] Serving notebooks from local directory: /home/jovyan\n",
      "\u001b[33mjupyter_1        |\u001b[0m [I 11:03:38.225 NotebookApp] The Jupyter Notebook is running at:\n",
      "\u001b[33mjupyter_1        |\u001b[0m [I 11:03:38.229 NotebookApp] http://621d617d47cf:8888/?token=0f60cb5b96dfc3ebd07a0661cf042deb8849f36bc04fd204\n",
      "\u001b[33mjupyter_1        |\u001b[0m [I 11:03:38.229 NotebookApp]  or http://127.0.0.1:8888/?token=0f60cb5b96dfc3ebd07a0661cf042deb8849f36bc04fd204\n",
      "\u001b[33mjupyter_1        |\u001b[0m [I 11:03:38.231 NotebookApp] Use Control-C to stop this server and shut down all kernels (twice to skip confirmation).\n",
      "\u001b[33mjupyter_1        |\u001b[0m [C 11:03:38.239 NotebookApp] \n",
      "\u001b[33mjupyter_1        |\u001b[0m     \n",
      "\u001b[33mjupyter_1        |\u001b[0m     To access the notebook, open this file in a browser:\n",
      "\u001b[33mjupyter_1        |\u001b[0m         file:///home/jovyan/.local/share/jupyter/runtime/nbserver-8-open.html\n",
      "\u001b[33mjupyter_1        |\u001b[0m     Or copy and paste one of these URLs:\n",
      "\u001b[33mjupyter_1        |\u001b[0m         http://621d617d47cf:8888/?token=0f60cb5b96dfc3ebd07a0661cf042deb8849f36bc04fd204\n",
      "\u001b[33mjupyter_1        |\u001b[0m      or http://127.0.0.1:8888/?token=0f60cb5b96dfc3ebd07a0661cf042deb8849f36bc04fd204\n",
      "\u001b[33mjupyter_1        |\u001b[0m [I 11:03:56.740 NotebookApp] 302 GET /?token=0f60cb5b96dfc3ebd07a0661cf042deb8849f36bc04fd204 (172.19.0.1) 2.16ms\n",
      "\u001b[33mjupyter_1        |\u001b[0m [I 13:29:20.996 NotebookApp] 302 GET / (74.82.47.4) 0.63ms\n",
      "\u001b[33mjupyter_1        |\u001b[0m [I 13:29:47.578 NotebookApp] 302 GET / (74.82.47.24) 0.56ms\n",
      "\u001b[33mjupyter_1        |\u001b[0m [I 13:29:47.708 NotebookApp] 302 GET /tree? (74.82.47.24) 0.88ms\n",
      "\u001b[33mjupyter_1        |\u001b[0m [W 13:30:02.560 NotebookApp] 404 GET http://api.ipify.org/?format=json (74.82.47.36) 14.10ms referer=None\n",
      "\u001b[33mjupyter_1        |\u001b[0m [W 13:30:24.893 NotebookApp] 405 CONNECT www.shadowserver.org:443 (74.82.47.16) 1.59ms referer=None\n",
      "\u001b[33mjupyter_1        |\u001b[0m [C 14:04:03.798 NotebookApp] received signal 15, stopping\n",
      "\u001b[33mjupyter_1        |\u001b[0m [I 14:04:03.800 NotebookApp] Shutting down 0 kernels\n",
      "\u001b[36melasticsearch_1  |\u001b[0m {\"type\": \"server\", \"timestamp\": \"2025-03-14T11:03:44,626+0000\", \"level\": \"INFO\", \"component\": \"o.e.p.PluginsService\", \"cluster.name\": \"docker-cluster\", \"node.name\": \"2c6756e3333b\",  \"message\": \"loaded module [x-pack-ilm]\"  }\n",
      "\u001b[36melasticsearch_1  |\u001b[0m {\"type\": \"server\", \"timestamp\": \"2025-03-14T11:03:44,628+0000\", \"level\": \"INFO\", \"component\": \"o.e.p.PluginsService\", \"cluster.name\": \"docker-cluster\", \"node.name\": \"2c6756e3333b\",  \"message\": \"loaded module [x-pack-logstash]\"  }\n",
      "\u001b[36melasticsearch_1  |\u001b[0m {\"type\": \"server\", \"timestamp\": \"2025-03-14T11:03:44,629+0000\", \"level\": \"INFO\", \"component\": \"o.e.p.PluginsService\", \"cluster.name\": \"docker-cluster\", \"node.name\": \"2c6756e3333b\",  \"message\": \"loaded module [x-pack-ml]\"  }\n",
      "\u001b[36melasticsearch_1  |\u001b[0m {\"type\": \"server\", \"timestamp\": \"2025-03-14T11:03:44,630+0000\", \"level\": \"INFO\", \"component\": \"o.e.p.PluginsService\", \"cluster.name\": \"docker-cluster\", \"node.name\": \"2c6756e3333b\",  \"message\": \"loaded module [x-pack-monitoring]\"  }\n",
      "\u001b[36melasticsearch_1  |\u001b[0m {\"type\": \"server\", \"timestamp\": \"2025-03-14T11:03:44,631+0000\", \"level\": \"INFO\", \"component\": \"o.e.p.PluginsService\", \"cluster.name\": \"docker-cluster\", \"node.name\": \"2c6756e3333b\",  \"message\": \"loaded module [x-pack-rollup]\"  }\n",
      "\u001b[36melasticsearch_1  |\u001b[0m {\"type\": \"server\", \"timestamp\": \"2025-03-14T11:03:44,632+0000\", \"level\": \"INFO\", \"component\": \"o.e.p.PluginsService\", \"cluster.name\": \"docker-cluster\", \"node.name\": \"2c6756e3333b\",  \"message\": \"loaded module [x-pack-security]\"  }\n",
      "\u001b[36melasticsearch_1  |\u001b[0m {\"type\": \"server\", \"timestamp\": \"2025-03-14T11:03:44,632+0000\", \"level\": \"INFO\", \"component\": \"o.e.p.PluginsService\", \"cluster.name\": \"docker-cluster\", \"node.name\": \"2c6756e3333b\",  \"message\": \"loaded module [x-pack-sql]\"  }\n",
      "\u001b[36melasticsearch_1  |\u001b[0m {\"type\": \"server\", \"timestamp\": \"2025-03-14T11:03:44,634+0000\", \"level\": \"INFO\", \"component\": \"o.e.p.PluginsService\", \"cluster.name\": \"docker-cluster\", \"node.name\": \"2c6756e3333b\",  \"message\": \"loaded module [x-pack-watcher]\"  }\n",
      "\u001b[36melasticsearch_1  |\u001b[0m {\"type\": \"server\", \"timestamp\": \"2025-03-14T11:03:44,636+0000\", \"level\": \"INFO\", \"component\": \"o.e.p.PluginsService\", \"cluster.name\": \"docker-cluster\", \"node.name\": \"2c6756e3333b\",  \"message\": \"no plugins loaded\"  }\n",
      "\u001b[36melasticsearch_1  |\u001b[0m {\"type\": \"server\", \"timestamp\": \"2025-03-14T11:03:51,730+0000\", \"level\": \"INFO\", \"component\": \"o.e.x.s.a.s.FileRolesStore\", \"cluster.name\": \"docker-cluster\", \"node.name\": \"2c6756e3333b\",  \"message\": \"parsed [0] roles from file [/usr/share/elasticsearch/config/roles.yml]\"  }\n",
      "\u001b[36melasticsearch_1  |\u001b[0m {\"type\": \"server\", \"timestamp\": \"2025-03-14T11:03:53,431+0000\", \"level\": \"INFO\", \"component\": \"o.e.x.m.p.l.CppLogMessageHandler\", \"cluster.name\": \"docker-cluster\", \"node.name\": \"2c6756e3333b\",  \"message\": \"[controller/102] [Main.cc@110] controller (64 bit): Version 7.2.0 (Build 65aefcbfce449b) Copyright (c) 2019 Elasticsearch BV\"  }\n",
      "\u001b[36melasticsearch_1  |\u001b[0m {\"type\": \"server\", \"timestamp\": \"2025-03-14T11:03:54,263+0000\", \"level\": \"DEBUG\", \"component\": \"o.e.a.ActionModule\", \"cluster.name\": \"docker-cluster\", \"node.name\": \"2c6756e3333b\",  \"message\": \"Using REST wrapper from plugin org.elasticsearch.xpack.security.Security\"  }\n",
      "\u001b[36melasticsearch_1  |\u001b[0m {\"type\": \"server\", \"timestamp\": \"2025-03-14T11:03:54,796+0000\", \"level\": \"INFO\", \"component\": \"o.e.d.DiscoveryModule\", \"cluster.name\": \"docker-cluster\", \"node.name\": \"2c6756e3333b\",  \"message\": \"using discovery type [single-node] and seed hosts providers [settings]\"  }\n",
      "\u001b[36melasticsearch_1  |\u001b[0m {\"type\": \"server\", \"timestamp\": \"2025-03-14T11:03:56,199+0000\", \"level\": \"INFO\", \"component\": \"o.e.n.Node\", \"cluster.name\": \"docker-cluster\", \"node.name\": \"2c6756e3333b\",  \"message\": \"initialized\"  }\n",
      "\u001b[36melasticsearch_1  |\u001b[0m {\"type\": \"server\", \"timestamp\": \"2025-03-14T11:03:56,202+0000\", \"level\": \"INFO\", \"component\": \"o.e.n.Node\", \"cluster.name\": \"docker-cluster\", \"node.name\": \"2c6756e3333b\",  \"message\": \"starting ...\"  }\n",
      "\u001b[36melasticsearch_1  |\u001b[0m {\"type\": \"server\", \"timestamp\": \"2025-03-14T11:03:56,519+0000\", \"level\": \"INFO\", \"component\": \"o.e.t.TransportService\", \"cluster.name\": \"docker-cluster\", \"node.name\": \"2c6756e3333b\",  \"message\": \"publish_address {172.19.0.3:9300}, bound_addresses {0.0.0.0:9300}\"  }\n",
      "\u001b[36melasticsearch_1  |\u001b[0m {\"type\": \"server\", \"timestamp\": \"2025-03-14T11:03:56,537+0000\", \"level\": \"WARN\", \"component\": \"o.e.b.BootstrapChecks\", \"cluster.name\": \"docker-cluster\", \"node.name\": \"2c6756e3333b\",  \"message\": \"max virtual memory areas vm.max_map_count [65530] is too low, increase to at least [262144]\"  }\n",
      "\u001b[36melasticsearch_1  |\u001b[0m {\"type\": \"server\", \"timestamp\": \"2025-03-14T11:03:56,559+0000\", \"level\": \"INFO\", \"component\": \"o.e.c.c.Coordinator\", \"cluster.name\": \"docker-cluster\", \"node.name\": \"2c6756e3333b\",  \"message\": \"setting initial configuration to VotingConfiguration{EY7Nl5iATGGzHbohrf2OLQ}\"  }\n",
      "\u001b[36melasticsearch_1  |\u001b[0m {\"type\": \"server\", \"timestamp\": \"2025-03-14T11:03:56,783+0000\", \"level\": \"INFO\", \"component\": \"o.e.c.s.MasterService\", \"cluster.name\": \"docker-cluster\", \"node.name\": \"2c6756e3333b\",  \"message\": \"elected-as-master ([1] nodes joined)[{2c6756e3333b}{EY7Nl5iATGGzHbohrf2OLQ}{jixl5YKWQv-Yz0Tri7aywA}{172.19.0.3}{172.19.0.3:9300}{ml.machine_memory=4051664896, xpack.installed=true, ml.max_open_jobs=20} elect leader, _BECOME_MASTER_TASK_, _FINISH_ELECTION_], term: 1, version: 1, reason: master node changed {previous [], current [{2c6756e3333b}{EY7Nl5iATGGzHbohrf2OLQ}{jixl5YKWQv-Yz0Tri7aywA}{172.19.0.3}{172.19.0.3:9300}{ml.machine_memory=4051664896, xpack.installed=true, ml.max_open_jobs=20}]}\"  }\n",
      "\u001b[36melasticsearch_1  |\u001b[0m {\"type\": \"server\", \"timestamp\": \"2025-03-14T11:03:56,842+0000\", \"level\": \"INFO\", \"component\": \"o.e.c.c.CoordinationState\", \"cluster.name\": \"docker-cluster\", \"node.name\": \"2c6756e3333b\",  \"message\": \"cluster UUID set to [4SIFVZS6RAqEw2Zt-fHVYA]\"  }\n",
      "\u001b[36melasticsearch_1  |\u001b[0m {\"type\": \"server\", \"timestamp\": \"2025-03-14T11:03:56,922+0000\", \"level\": \"INFO\", \"component\": \"o.e.c.s.ClusterApplierService\", \"cluster.name\": \"docker-cluster\", \"node.name\": \"2c6756e3333b\",  \"message\": \"master node changed {previous [], current [{2c6756e3333b}{EY7Nl5iATGGzHbohrf2OLQ}{jixl5YKWQv-Yz0Tri7aywA}{172.19.0.3}{172.19.0.3:9300}{ml.machine_memory=4051664896, xpack.installed=true, ml.max_open_jobs=20}]}, term: 1, version: 1, reason: Publication{term=1, version=1}\"  }\n",
      "\u001b[36melasticsearch_1  |\u001b[0m {\"type\": \"server\", \"timestamp\": \"2025-03-14T11:03:57,058+0000\", \"level\": \"INFO\", \"component\": \"o.e.h.AbstractHttpServerTransport\", \"cluster.name\": \"docker-cluster\", \"node.name\": \"2c6756e3333b\", \"cluster.uuid\": \"4SIFVZS6RAqEw2Zt-fHVYA\", \"node.id\": \"EY7Nl5iATGGzHbohrf2OLQ\",  \"message\": \"publish_address {172.19.0.3:9200}, bound_addresses {0.0.0.0:9200}\"  }\n",
      "\u001b[36melasticsearch_1  |\u001b[0m {\"type\": \"server\", \"timestamp\": \"2025-03-14T11:03:57,065+0000\", \"level\": \"INFO\", \"component\": \"o.e.n.Node\", \"cluster.name\": \"docker-cluster\", \"node.name\": \"2c6756e3333b\", \"cluster.uuid\": \"4SIFVZS6RAqEw2Zt-fHVYA\", \"node.id\": \"EY7Nl5iATGGzHbohrf2OLQ\",  \"message\": \"started\"  }\n",
      "\u001b[36melasticsearch_1  |\u001b[0m {\"type\": \"server\", \"timestamp\": \"2025-03-14T11:03:57,181+0000\", \"level\": \"INFO\", \"component\": \"o.e.g.GatewayService\", \"cluster.name\": \"docker-cluster\", \"node.name\": \"2c6756e3333b\", \"cluster.uuid\": \"4SIFVZS6RAqEw2Zt-fHVYA\", \"node.id\": \"EY7Nl5iATGGzHbohrf2OLQ\",  \"message\": \"recovered [0] indices into cluster_state\"  }\n",
      "\u001b[36melasticsearch_1  |\u001b[0m {\"type\": \"server\", \"timestamp\": \"2025-03-14T11:03:57,645+0000\", \"level\": \"INFO\", \"component\": \"o.e.c.m.MetaDataIndexTemplateService\", \"cluster.name\": \"docker-cluster\", \"node.name\": \"2c6756e3333b\", \"cluster.uuid\": \"4SIFVZS6RAqEw2Zt-fHVYA\", \"node.id\": \"EY7Nl5iATGGzHbohrf2OLQ\",  \"message\": \"adding template [.triggered_watches] for index patterns [.triggered_watches*]\"  }\n",
      "\u001b[36melasticsearch_1  |\u001b[0m {\"type\": \"server\", \"timestamp\": \"2025-03-14T11:03:57,719+0000\", \"level\": \"INFO\", \"component\": \"o.e.c.m.MetaDataIndexTemplateService\", \"cluster.name\": \"docker-cluster\", \"node.name\": \"2c6756e3333b\", \"cluster.uuid\": \"4SIFVZS6RAqEw2Zt-fHVYA\", \"node.id\": \"EY7Nl5iATGGzHbohrf2OLQ\",  \"message\": \"adding template [.watches] for index patterns [.watches*]\"  }\n",
      "\u001b[36melasticsearch_1  |\u001b[0m {\"type\": \"server\", \"timestamp\": \"2025-03-14T11:03:57,856+0000\", \"level\": \"INFO\", \"component\": \"o.e.c.m.MetaDataIndexTemplateService\", \"cluster.name\": \"docker-cluster\", \"node.name\": \"2c6756e3333b\", \"cluster.uuid\": \"4SIFVZS6RAqEw2Zt-fHVYA\", \"node.id\": \"EY7Nl5iATGGzHbohrf2OLQ\",  \"message\": \"adding template [.watch-history-9] for index patterns [.watcher-history-9*]\"  }\n",
      "\u001b[36melasticsearch_1  |\u001b[0m {\"type\": \"server\", \"timestamp\": \"2025-03-14T11:03:57,950+0000\", \"level\": \"INFO\", \"component\": \"o.e.c.m.MetaDataIndexTemplateService\", \"cluster.name\": \"docker-cluster\", \"node.name\": \"2c6756e3333b\", \"cluster.uuid\": \"4SIFVZS6RAqEw2Zt-fHVYA\", \"node.id\": \"EY7Nl5iATGGzHbohrf2OLQ\",  \"message\": \"adding template [.monitoring-logstash] for index patterns [.monitoring-logstash-7-*]\"  }\n",
      "\u001b[36melasticsearch_1  |\u001b[0m {\"type\": \"server\", \"timestamp\": \"2025-03-14T11:03:58,072+0000\", \"level\": \"INFO\", \"component\": \"o.e.c.m.MetaDataIndexTemplateService\", \"cluster.name\": \"docker-cluster\", \"node.name\": \"2c6756e3333b\", \"cluster.uuid\": \"4SIFVZS6RAqEw2Zt-fHVYA\", \"node.id\": \"EY7Nl5iATGGzHbohrf2OLQ\",  \"message\": \"adding template [.monitoring-es] for index patterns [.monitoring-es-7-*]\"  }\n",
      "\u001b[36melasticsearch_1  |\u001b[0m {\"type\": \"server\", \"timestamp\": \"2025-03-14T11:03:58,170+0000\", \"level\": \"INFO\", \"component\": \"o.e.c.m.MetaDataIndexTemplateService\", \"cluster.name\": \"docker-cluster\", \"node.name\": \"2c6756e3333b\", \"cluster.uuid\": \"4SIFVZS6RAqEw2Zt-fHVYA\", \"node.id\": \"EY7Nl5iATGGzHbohrf2OLQ\",  \"message\": \"adding template [.monitoring-beats] for index patterns [.monitoring-beats-7-*]\"  }\n",
      "\u001b[36melasticsearch_1  |\u001b[0m {\"type\": \"server\", \"timestamp\": \"2025-03-14T11:03:58,227+0000\", \"level\": \"INFO\", \"component\": \"o.e.c.m.MetaDataIndexTemplateService\", \"cluster.name\": \"docker-cluster\", \"node.name\": \"2c6756e3333b\", \"cluster.uuid\": \"4SIFVZS6RAqEw2Zt-fHVYA\", \"node.id\": \"EY7Nl5iATGGzHbohrf2OLQ\",  \"message\": \"adding template [.monitoring-alerts-7] for index patterns [.monitoring-alerts-7]\"  }\n",
      "\u001b[36melasticsearch_1  |\u001b[0m {\"type\": \"server\", \"timestamp\": \"2025-03-14T11:03:58,284+0000\", \"level\": \"INFO\", \"component\": \"o.e.c.m.MetaDataIndexTemplateService\", \"cluster.name\": \"docker-cluster\", \"node.name\": \"2c6756e3333b\", \"cluster.uuid\": \"4SIFVZS6RAqEw2Zt-fHVYA\", \"node.id\": \"EY7Nl5iATGGzHbohrf2OLQ\",  \"message\": \"adding template [.monitoring-kibana] for index patterns [.monitoring-kibana-7-*]\"  }\n",
      "\u001b[36melasticsearch_1  |\u001b[0m {\"type\": \"server\", \"timestamp\": \"2025-03-14T11:03:58,333+0000\", \"level\": \"INFO\", \"component\": \"o.e.x.i.a.TransportPutLifecycleAction\", \"cluster.name\": \"docker-cluster\", \"node.name\": \"2c6756e3333b\", \"cluster.uuid\": \"4SIFVZS6RAqEw2Zt-fHVYA\", \"node.id\": \"EY7Nl5iATGGzHbohrf2OLQ\",  \"message\": \"adding index lifecycle policy [watch-history-ilm-policy]\"  }\n",
      "\u001b[36melasticsearch_1  |\u001b[0m {\"type\": \"server\", \"timestamp\": \"2025-03-14T11:03:58,521+0000\", \"level\": \"INFO\", \"component\": \"o.e.l.LicenseService\", \"cluster.name\": \"docker-cluster\", \"node.name\": \"2c6756e3333b\", \"cluster.uuid\": \"4SIFVZS6RAqEw2Zt-fHVYA\", \"node.id\": \"EY7Nl5iATGGzHbohrf2OLQ\",  \"message\": \"license [c326c21f-40a6-48a4-83e4-d73a8df0c9db] mode [basic] - valid\"  }\n",
      "\u001b[36melasticsearch_1  |\u001b[0m {\"type\": \"server\", \"timestamp\": \"2025-03-14T14:04:03,714+0000\", \"level\": \"INFO\", \"component\": \"o.e.n.Node\", \"cluster.name\": \"docker-cluster\", \"node.name\": \"2c6756e3333b\", \"cluster.uuid\": \"4SIFVZS6RAqEw2Zt-fHVYA\", \"node.id\": \"EY7Nl5iATGGzHbohrf2OLQ\",  \"message\": \"stopping ...\"  }\n",
      "\u001b[36melasticsearch_1  |\u001b[0m {\"type\": \"server\", \"timestamp\": \"2025-03-14T14:04:03,788+0000\", \"level\": \"INFO\", \"component\": \"o.e.x.w.WatcherService\", \"cluster.name\": \"docker-cluster\", \"node.name\": \"2c6756e3333b\", \"cluster.uuid\": \"4SIFVZS6RAqEw2Zt-fHVYA\", \"node.id\": \"EY7Nl5iATGGzHbohrf2OLQ\",  \"message\": \"stopping watch service, reason [shutdown initiated]\"  }\n",
      "\u001b[36melasticsearch_1  |\u001b[0m {\"type\": \"server\", \"timestamp\": \"2025-03-14T14:04:04,105+0000\", \"level\": \"INFO\", \"component\": \"o.e.x.m.p.l.CppLogMessageHandler\", \"cluster.name\": \"docker-cluster\", \"node.name\": \"2c6756e3333b\", \"cluster.uuid\": \"4SIFVZS6RAqEw2Zt-fHVYA\", \"node.id\": \"EY7Nl5iATGGzHbohrf2OLQ\",  \"message\": \"[controller/102] [Main.cc@150] Ml controller exiting\"  }\n",
      "\u001b[36melasticsearch_1  |\u001b[0m {\"type\": \"server\", \"timestamp\": \"2025-03-14T14:04:04,108+0000\", \"level\": \"INFO\", \"component\": \"o.e.x.m.p.NativeController\", \"cluster.name\": \"docker-cluster\", \"node.name\": \"2c6756e3333b\", \"cluster.uuid\": \"4SIFVZS6RAqEw2Zt-fHVYA\", \"node.id\": \"EY7Nl5iATGGzHbohrf2OLQ\",  \"message\": \"Native controller process has stopped - no new native processes can be started\"  }\n",
      "\u001b[36melasticsearch_1  |\u001b[0m {\"type\": \"server\", \"timestamp\": \"2025-03-14T14:04:04,129+0000\", \"level\": \"INFO\", \"component\": \"o.e.n.Node\", \"cluster.name\": \"docker-cluster\", \"node.name\": \"2c6756e3333b\", \"cluster.uuid\": \"4SIFVZS6RAqEw2Zt-fHVYA\", \"node.id\": \"EY7Nl5iATGGzHbohrf2OLQ\",  \"message\": \"stopped\"  }\n",
      "\u001b[36melasticsearch_1  |\u001b[0m {\"type\": \"server\", \"timestamp\": \"2025-03-14T14:04:04,129+0000\", \"level\": \"INFO\", \"component\": \"o.e.n.Node\", \"cluster.name\": \"docker-cluster\", \"node.name\": \"2c6756e3333b\", \"cluster.uuid\": \"4SIFVZS6RAqEw2Zt-fHVYA\", \"node.id\": \"EY7Nl5iATGGzHbohrf2OLQ\",  \"message\": \"closing ...\"  }\n",
      "\u001b[36melasticsearch_1  |\u001b[0m {\"type\": \"server\", \"timestamp\": \"2025-03-14T14:04:04,183+0000\", \"level\": \"INFO\", \"component\": \"o.e.n.Node\", \"cluster.name\": \"docker-cluster\", \"node.name\": \"2c6756e3333b\", \"cluster.uuid\": \"4SIFVZS6RAqEw2Zt-fHVYA\", \"node.id\": \"EY7Nl5iATGGzHbohrf2OLQ\",  \"message\": \"closed\"  }\n"
     ]
    }
   ],
   "source": [
    "!docker-compose logs \n"
   ]
  },
  {
   "cell_type": "code",
   "execution_count": 5,
   "metadata": {},
   "outputs": [
    {
     "name": "stdout",
     "output_type": "stream",
     "text": [
      "8000/tcp -> 0.0.0.0:8000\n",
      "9000/tcp -> 0.0.0.0:9000\n"
     ]
    }
   ],
   "source": [
    "!docker port portainer\n"
   ]
  },
  {
   "cell_type": "code",
   "execution_count": 6,
   "metadata": {},
   "outputs": [
    {
     "name": "stdout",
     "output_type": "stream",
     "text": [
      "\u001b[90m2025/03/14 02:33PM\u001b[0m \u001b[32mINF\u001b[0m \u001b[1mgithub.com/portainer/portainer/api/cmd/portainer/main.go:310\u001b[0m\u001b[36m >\u001b[0m encryption key file not present | \u001b[36mfilename=\u001b[0mportainer\n",
      "\u001b[90m2025/03/14 02:33PM\u001b[0m \u001b[32mINF\u001b[0m \u001b[1mgithub.com/portainer/portainer/api/cmd/portainer/main.go:334\u001b[0m\u001b[36m >\u001b[0m proceeding without encryption key |\n",
      "\u001b[90m2025/03/14 02:33PM\u001b[0m \u001b[32mINF\u001b[0m \u001b[1mgithub.com/portainer/portainer/api/database/boltdb/db.go:133\u001b[0m\u001b[36m >\u001b[0m loading PortainerDB | \u001b[36mfilename=\u001b[0mportainer.db\n",
      "\u001b[90m2025/03/14 02:33PM\u001b[0m \u001b[32mINF\u001b[0m \u001b[1mgithub.com/portainer/portainer/api/chisel/service.go:200\u001b[0m\u001b[36m >\u001b[0m found Chisel private key file on disk | \u001b[36mprivate-key=\u001b[0m/data/chisel/private-key.pem\n",
      "2025/03/14 14:33:58 server: Reverse tunnelling enabled\n",
      "2025/03/14 14:33:58 server: Fingerprint VR3mGmEtA/qOYp12LWdmC1zOs30LAM9TKg7R2UoL9Tc=\n",
      "2025/03/14 14:33:58 server: Listening on http://0.0.0.0:8000\n",
      "\u001b[90m2025/03/14 02:33PM\u001b[0m \u001b[32mINF\u001b[0m \u001b[1mgithub.com/portainer/portainer/api/cmd/portainer/main.go:601\u001b[0m\u001b[36m >\u001b[0m starting Portainer | \u001b[36mbuild_number=\u001b[0m164 \u001b[36mgo_version=\u001b[0m1.23.5 \u001b[36mimage_tag=\u001b[0m2.27.1-linux-amd64 \u001b[36mnodejs_version=\u001b[0m18.20.7 \u001b[36mversion=\u001b[0m2.27.1 \u001b[36mwebpack_version=\u001b[0m5.88.2 \u001b[36myarn_version=\u001b[0m1.22.22\n",
      "\u001b[90m2025/03/14 02:33PM\u001b[0m \u001b[32mINF\u001b[0m \u001b[1mgithub.com/portainer/portainer/api/http/server.go:363\u001b[0m\u001b[36m >\u001b[0m starting HTTPS server | \u001b[36mbind_address=\u001b[0m:9443\n",
      "\u001b[90m2025/03/14 02:33PM\u001b[0m \u001b[32mINF\u001b[0m \u001b[1mgithub.com/portainer/portainer/api/http/server.go:347\u001b[0m\u001b[36m >\u001b[0m starting HTTP server | \u001b[36mbind_address=\u001b[0m:9000\n"
     ]
    }
   ],
   "source": [
    "!docker logs portainer"
   ]
  },
  {
   "cell_type": "code",
   "execution_count": 7,
   "metadata": {},
   "outputs": [
    {
     "name": "stdout",
     "output_type": "stream",
     "text": [
      "srw-rw---- 1 root docker 0 Mar 14 14:05 /var/run/docker.sock\n"
     ]
    }
   ],
   "source": [
    "!ls -l /var/run/docker.sock"
   ]
  },
  {
   "cell_type": "code",
   "execution_count": 8,
   "metadata": {},
   "outputs": [],
   "source": [
    "!sudo netstat -tuln | grep -E '8000|9000'"
   ]
  },
  {
   "cell_type": "code",
   "execution_count": 17,
   "metadata": {},
   "outputs": [
    {
     "name": "stdout",
     "output_type": "stream",
     "text": [
      "CONTAINER ID   IMAGE                                   COMMAND                  CREATED              STATUS                        PORTS                                                                    NAMES\n",
      "b36f03473b91   portainer/portainer-ce                  \"/portainer\"             About a minute ago   Up About a minute             0.0.0.0:8000->8000/tcp, 0.0.0.0:9000->9000/tcp, 0.0.0.0:9443->9443/tcp   portainer\n",
      "621d617d47cf   jupyter/minimal-notebook:ubuntu-18.04   \"tini -g -- start-no…\"   4 hours ago          Exited (0) 38 minutes ago                                                                              practice_compose_jupyter_1\n",
      "2c6756e3333b   elasticsearch:7.2.0                     \"/usr/local/bin/dock…\"   4 hours ago          Exited (143) 38 minutes ago                                                                            practice_compose_elasticsearch_1\n"
     ]
    }
   ],
   "source": [
    "!docker ps -a"
   ]
  },
  {
   "cell_type": "code",
   "execution_count": 10,
   "metadata": {},
   "outputs": [
    {
     "name": "stdout",
     "output_type": "stream",
     "text": [
      "\u001b[90m2025/03/14 02:33PM\u001b[0m \u001b[32mINF\u001b[0m \u001b[1mgithub.com/portainer/portainer/api/cmd/portainer/main.go:310\u001b[0m\u001b[36m >\u001b[0m encryption key file not present | \u001b[36mfilename=\u001b[0mportainer\n",
      "\u001b[90m2025/03/14 02:33PM\u001b[0m \u001b[32mINF\u001b[0m \u001b[1mgithub.com/portainer/portainer/api/cmd/portainer/main.go:334\u001b[0m\u001b[36m >\u001b[0m proceeding without encryption key |\n",
      "\u001b[90m2025/03/14 02:33PM\u001b[0m \u001b[32mINF\u001b[0m \u001b[1mgithub.com/portainer/portainer/api/database/boltdb/db.go:133\u001b[0m\u001b[36m >\u001b[0m loading PortainerDB | \u001b[36mfilename=\u001b[0mportainer.db\n",
      "\u001b[90m2025/03/14 02:33PM\u001b[0m \u001b[32mINF\u001b[0m \u001b[1mgithub.com/portainer/portainer/api/chisel/service.go:200\u001b[0m\u001b[36m >\u001b[0m found Chisel private key file on disk | \u001b[36mprivate-key=\u001b[0m/data/chisel/private-key.pem\n",
      "2025/03/14 14:33:58 server: Reverse tunnelling enabled\n",
      "2025/03/14 14:33:58 server: Fingerprint VR3mGmEtA/qOYp12LWdmC1zOs30LAM9TKg7R2UoL9Tc=\n",
      "2025/03/14 14:33:58 server: Listening on http://0.0.0.0:8000\n",
      "\u001b[90m2025/03/14 02:33PM\u001b[0m \u001b[32mINF\u001b[0m \u001b[1mgithub.com/portainer/portainer/api/cmd/portainer/main.go:601\u001b[0m\u001b[36m >\u001b[0m starting Portainer | \u001b[36mbuild_number=\u001b[0m164 \u001b[36mgo_version=\u001b[0m1.23.5 \u001b[36mimage_tag=\u001b[0m2.27.1-linux-amd64 \u001b[36mnodejs_version=\u001b[0m18.20.7 \u001b[36mversion=\u001b[0m2.27.1 \u001b[36mwebpack_version=\u001b[0m5.88.2 \u001b[36myarn_version=\u001b[0m1.22.22\n",
      "\u001b[90m2025/03/14 02:33PM\u001b[0m \u001b[32mINF\u001b[0m \u001b[1mgithub.com/portainer/portainer/api/http/server.go:363\u001b[0m\u001b[36m >\u001b[0m starting HTTPS server | \u001b[36mbind_address=\u001b[0m:9443\n",
      "\u001b[90m2025/03/14 02:33PM\u001b[0m \u001b[32mINF\u001b[0m \u001b[1mgithub.com/portainer/portainer/api/http/server.go:347\u001b[0m\u001b[36m >\u001b[0m starting HTTP server | \u001b[36mbind_address=\u001b[0m:9000\n",
      "\u001b[90m2025/03/14 02:37PM\u001b[0m \u001b[32mINF\u001b[0m \u001b[1mgithub.com/portainer/portainer/api/cmd/portainer/main.go:310\u001b[0m\u001b[36m >\u001b[0m encryption key file not present | \u001b[36mfilename=\u001b[0mportainer\n",
      "\u001b[90m2025/03/14 02:37PM\u001b[0m \u001b[32mINF\u001b[0m \u001b[1mgithub.com/portainer/portainer/api/cmd/portainer/main.go:334\u001b[0m\u001b[36m >\u001b[0m proceeding without encryption key |\n",
      "\u001b[90m2025/03/14 02:37PM\u001b[0m \u001b[32mINF\u001b[0m \u001b[1mgithub.com/portainer/portainer/api/database/boltdb/db.go:133\u001b[0m\u001b[36m >\u001b[0m loading PortainerDB | \u001b[36mfilename=\u001b[0mportainer.db\n",
      "\u001b[90m2025/03/14 02:37PM\u001b[0m \u001b[32mINF\u001b[0m \u001b[1mgithub.com/portainer/portainer/api/chisel/service.go:200\u001b[0m\u001b[36m >\u001b[0m found Chisel private key file on disk | \u001b[36mprivate-key=\u001b[0m/data/chisel/private-key.pem\n",
      "2025/03/14 14:37:11 server: Reverse tunnelling enabled\n",
      "2025/03/14 14:37:11 server: Fingerprint VR3mGmEtA/qOYp12LWdmC1zOs30LAM9TKg7R2UoL9Tc=\n",
      "2025/03/14 14:37:11 server: Listening on http://0.0.0.0:8000\n",
      "\u001b[90m2025/03/14 02:37PM\u001b[0m \u001b[32mINF\u001b[0m \u001b[1mgithub.com/portainer/portainer/api/cmd/portainer/main.go:601\u001b[0m\u001b[36m >\u001b[0m starting Portainer | \u001b[36mbuild_number=\u001b[0m164 \u001b[36mgo_version=\u001b[0m1.23.5 \u001b[36mimage_tag=\u001b[0m2.27.1-linux-amd64 \u001b[36mnodejs_version=\u001b[0m18.20.7 \u001b[36mversion=\u001b[0m2.27.1 \u001b[36mwebpack_version=\u001b[0m5.88.2 \u001b[36myarn_version=\u001b[0m1.22.22\n",
      "\u001b[90m2025/03/14 02:37PM\u001b[0m \u001b[32mINF\u001b[0m \u001b[1mgithub.com/portainer/portainer/api/http/server.go:363\u001b[0m\u001b[36m >\u001b[0m starting HTTPS server | \u001b[36mbind_address=\u001b[0m:9443\n",
      "\u001b[90m2025/03/14 02:37PM\u001b[0m \u001b[32mINF\u001b[0m \u001b[1mgithub.com/portainer/portainer/api/http/server.go:347\u001b[0m\u001b[36m >\u001b[0m starting HTTP server | \u001b[36mbind_address=\u001b[0m:9000\n"
     ]
    }
   ],
   "source": [
    "!docker logs portainer"
   ]
  },
  {
   "cell_type": "code",
   "execution_count": 14,
   "metadata": {},
   "outputs": [
    {
     "name": "stdout",
     "output_type": "stream",
     "text": [
      "<!doctype html><html lang=\"en\" ng-app=\"portainer\" ng-strict-di data-edition=\"CE\"><head><meta charset=\"utf-8\"/><title>Portainer</title><meta name=\"description\" content=\"\"/><meta name=\"author\" content=\"Portainer.io\"/><meta http-equiv=\"cache-control\" content=\"no-cache\"/><meta http-equiv=\"expires\" content=\"0\"/><meta http-equiv=\"pragma\" content=\"no-cache\"/><meta name=\"robots\" content=\"noindex\"/><base id=\"base\"/><!--[if lt IE 9]>\n",
      "      <script src=\"//html5shim.googlecode.com/svn/trunk/html5.js\"></script>\n",
      "    <![endif]--><link rel=\"apple-touch-icon\" sizes=\"180x180\" href=\"63a301f0574f1a696ce6.png\"/><link rel=\"icon\" type=\"image/png\" sizes=\"32x32\" href=\"2dcfc527d067d4ae3424.png\"/><link rel=\"icon\" type=\"image/png\" sizes=\"16x16\" href=\"112a479c093f4729251d.png\"/><link rel=\"mask-icon\" href=\"data:image/svg+xml;base64,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\" color=\"#5bbad5\"/><link rel=\"shortcut icon\" href=\"data:image/vnd.microsoft.icon;base64,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\"/><meta name=\"msapplication-config\" content=\"6d50eaeb9f128c130ed9.xml\"/><meta name=\"theme-color\" content=\"#ffffff\"/><script defer=\"defer\" src=\"runtime.942fa683274b3d3c26cf.js\"></script><script defer=\"defer\" src=\"vendor.8dec768a1ba43dbbd246.js\"></script><script defer=\"defer\" src=\"main.918b8119da36ea53d38d.js\"></script><link href=\"vendor.3e0fd5bef5722e2dbb72.css\" rel=\"stylesheet\"><link href=\"main.ed724ec63cb0a2355049.css\" rel=\"stylesheet\"></head><body ng-controller=\"MainController\"><react-query-dev-tools></react-query-dev-tools><div id=\"page-wrapper\" ng-class=\"{\n",
      "        open: isSidebarOpen() && ['portainer.auth', 'portainer.init.admin'].indexOf($state.current.name) === -1,\n",
      "        nopadding: ['portainer.auth', 'portainer.init.admin', 'portainer.logout'].indexOf($state.current.name) > -1 || applicationState.loading\n",
      "      }\" ng-cloak><div id=\"sideview\" ui-view=\"sidebar\" ng-if=\"!applicationState.loading\"></div><div id=\"content-wrapper\"><div class=\"page-content\"><div class=\"page-wrapper\" ng-if=\"applicationState.loading\"><div class=\"simple-box container\"><div class=\"col-md-6 col-md-offset-3 col-sm-6 col-sm-offset-3\"><div class=\"row\"><img ng-if=\"logo\" ng-src=\"{{ logo }}\" class=\"simple-box-logo\"/> <img ng-if=\"!logo\" src=\"data:image/svg+xml;base64,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\" class=\"simple-box-logo\" alt=\"Portainer\"/></div><div class=\"ml-0 mr-0 flex items-center justify-center text-center\">Loading Portainer... <svg xmlns=\"http://www.w3.org/2000/svg\" width=\"14\" height=\"14\" viewBox=\"0 0 24 24\" fill=\"none\" stroke=\"currentColor\" stroke-width=\"2\" stroke-linecap=\"round\" stroke-linejoin=\"round\" class=\"!ml-1 inline animate-spin-slow\"><circle cx=\"12\" cy=\"12\" r=\"3\"></circle><path d=\"M19.4 15a1.65 1.65 0 0 0 .33 1.82l.06.06a2 2 0 0 1 0 2.83 2 2 0 0 1-2.83 0l-.06-.06a1.65 1.65 0 0 0-1.82-.33 1.65 1.65 0 0 0-1 1.51V21a2 2 0 0 1-2 2 2 2 0 0 1-2-2v-.09A1.65 1.65 0 0 0 9 19.4a1.65 1.65 0 0 0-1.82.33l-.06.06a2 2 0 0 1-2.83 0 2 2 0 0 1 0-2.83l.06-.06a1.65 1.65 0 0 0 .33-1.82 1.65 1.65 0 0 0-1.51-1H3a2 2 0 0 1-2-2 2 2 0 0 1 2-2h.09A1.65 1.65 0 0 0 4.6 9a1.65 1.65 0 0 0-.33-1.82l-.06-.06a2 2 0 0 1 0-2.83 2 2 0 0 1 2.83 0l.06.06a1.65 1.65 0 0 0 1.82.33H9a1.65 1.65 0 0 0 1-1.51V3a2 2 0 0 1 2-2 2 2 0 0 1 2 2v.09a1.65 1.65 0 0 0 1 1.51 1.65 1.65 0 0 0 1.82-.33l.06-.06a2 2 0 0 1 2.83 0 2 2 0 0 1 0 2.83l-.06.06a1.65 1.65 0 0 0-.33 1.82V9a1.65 1.65 0 0 0 1.51 1H21a2 2 0 0 1 2 2 2 2 0 0 1-2 2h-.09a1.65 1.65 0 0 0-1.51 1z\"></path></svg></div></div></div></div><div id=\"view\" ui-view=\"content\" ng-if=\"!applicationState.loading\"></div></div></div></div></body></html>"
     ]
    }
   ],
   "source": [
    "!curl http://localhost:9000"
   ]
  },
  {
   "cell_type": "code",
   "execution_count": 15,
   "metadata": {},
   "outputs": [
    {
     "name": "stdout",
     "output_type": "stream",
     "text": [
      "9443/tcp -> 0.0.0.0:9443\n",
      "8000/tcp -> 0.0.0.0:8000\n",
      "9000/tcp -> 0.0.0.0:9000\n"
     ]
    }
   ],
   "source": [
    "!docker port portainer"
   ]
  },
  {
   "cell_type": "code",
   "execution_count": 16,
   "metadata": {},
   "outputs": [
    {
     "name": "stdout",
     "output_type": "stream",
     "text": [
      "{\"Version\":\"2.27.1\",\"InstanceID\":\"3622a1a8-eb78-462b-92c3-b55e35d7ad3c\"}"
     ]
    }
   ],
   "source": [
    "!curl http://localhost:9000/api/status"
   ]
  },
  {
   "cell_type": "code",
   "execution_count": null,
   "metadata": {},
   "outputs": [],
   "source": []
  }
 ],
 "metadata": {
  "kernelspec": {
   "display_name": "dock",
   "language": "python",
   "name": "python3"
  },
  "language_info": {
   "codemirror_mode": {
    "name": "ipython",
    "version": 3
   },
   "file_extension": ".py",
   "mimetype": "text/x-python",
   "name": "python",
   "nbconvert_exporter": "python",
   "pygments_lexer": "ipython3",
   "version": "3.12.9"
  }
 },
 "nbformat": 4,
 "nbformat_minor": 2
}
