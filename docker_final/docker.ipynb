{
 "cells": [
  {
   "cell_type": "code",
   "execution_count": null,
   "metadata": {},
   "outputs": [],
   "source": [
    "!docker image pull datascientest/fastapi:1.0.0\n"
   ]
  },
  {
   "cell_type": "code",
   "execution_count": 8,
   "metadata": {},
   "outputs": [
    {
     "name": "stdout",
     "output_type": "stream",
     "text": [
      "f6ecb82b4e96\n",
      "f2e1569ebedc\n",
      "d00dff7b6216\n",
      "72ad389c930c\n"
     ]
    }
   ],
   "source": [
    "# Delete all containers (running and stopped)\n",
    "!docker rm -f $(docker ps -aq)\n"
   ]
  },
  {
   "cell_type": "code",
   "execution_count": 10,
   "metadata": {},
   "outputs": [
    {
     "name": "stdout",
     "output_type": "stream",
     "text": [
      "2b88b79b469f791bf49e2c6c26a7d4a4cf31559d86b23ad4326d0da81d39597c\n"
     ]
    }
   ],
   "source": [
    "!docker container run -d -p 8000:8000 datascientest/fastapi:1.0.0\n"
   ]
  },
  {
   "cell_type": "code",
   "execution_count": 11,
   "metadata": {},
   "outputs": [
    {
     "name": "stdout",
     "output_type": "stream",
     "text": [
      "CONTAINER ID   IMAGE                         COMMAND                  CREATED        STATUS                  PORTS                    NAMES\n",
      "2b88b79b469f   datascientest/fastapi:1.0.0   \"/bin/sh -c 'uvicorn…\"   1 second ago   Up Less than a second   0.0.0.0:8000->8000/tcp   quizzical_mendeleev\n"
     ]
    }
   ],
   "source": [
    "!docker ps -a"
   ]
  },
  {
   "cell_type": "code",
   "execution_count": 4,
   "metadata": {},
   "outputs": [
    {
     "name": "stdout",
     "output_type": "stream",
     "text": [
      "d00dff7b6216\n"
     ]
    }
   ],
   "source": [
    "!docker stop d00dff7b6216"
   ]
  },
  {
   "cell_type": "code",
   "execution_count": 13,
   "metadata": {},
   "outputs": [
    {
     "name": "stdout",
     "output_type": "stream",
     "text": [
      "\n",
      "    <!DOCTYPE html>\n",
      "    <html>\n",
      "    <head>\n",
      "    <link type=\"text/css\" rel=\"stylesheet\" href=\"https://cdn.jsdelivr.net/npm/swagger-ui-dist@3/swagger-ui.css\">\n",
      "    <link rel=\"shortcut icon\" href=\"https://fastapi.tiangolo.com/img/favicon.png\">\n",
      "    <title>FastAPI - Swagger UI</title>\n",
      "    </head>\n",
      "    <body>\n",
      "    <div id=\"swagger-ui\">\n",
      "    </div>\n",
      "    <script src=\"https://cdn.jsdelivr.net/npm/swagger-ui-dist@3/swagger-ui-bundle.js\"></script>\n",
      "    <!-- `SwaggerUIBundle` is now available on the page -->\n",
      "    <script>\n",
      "    const ui = SwaggerUIBundle({\n",
      "        url: '/openapi.json',\n",
      "    oauth2RedirectUrl: window.location.origin + '/docs/oauth2-redirect',\n",
      "        dom_id: '#swagger-ui',\n",
      "        presets: [\n",
      "        SwaggerUIBundle.presets.apis,\n",
      "        SwaggerUIBundle.SwaggerUIStandalonePreset\n",
      "        ],\n",
      "        layout: \"BaseLayout\",\n",
      "        deepLinking: true,\n",
      "        showExtensions: true,\n",
      "        showCommonExtensions: true\n",
      "    })\n",
      "    </script>\n",
      "    </body>\n",
      "    </html>\n",
      "    "
     ]
    }
   ],
   "source": [
    "!curl http://localhost:8000/docs"
   ]
  },
  {
   "cell_type": "code",
   "execution_count": 16,
   "metadata": {},
   "outputs": [
    {
     "name": "stdout",
     "output_type": "stream",
     "text": [
      "\n",
      "    <!DOCTYPE html>\n",
      "    <html>\n",
      "    <head>\n",
      "    <link type=\"text/css\" rel=\"stylesheet\" href=\"https://cdn.jsdelivr.net/npm/swagger-ui-dist@3/swagger-ui.css\">\n",
      "    <link rel=\"shortcut icon\" href=\"https://fastapi.tiangolo.com/img/favicon.png\">\n",
      "    <title>FastAPI - Swagger UI</title>\n",
      "    </head>\n",
      "    <body>\n",
      "    <div id=\"swagger-ui\">\n",
      "    </div>\n",
      "    <script src=\"https://cdn.jsdelivr.net/npm/swagger-ui-dist@3/swagger-ui-bundle.js\"></script>\n",
      "    <!-- `SwaggerUIBundle` is now available on the page -->\n",
      "    <script>\n",
      "    const ui = SwaggerUIBundle({\n",
      "        url: '/openapi.json',\n",
      "    oauth2RedirectUrl: window.location.origin + '/docs/oauth2-redirect',\n",
      "        dom_id: '#swagger-ui',\n",
      "        presets: [\n",
      "        SwaggerUIBundle.presets.apis,\n",
      "        SwaggerUIBundle.SwaggerUIStandalonePreset\n",
      "        ],\n",
      "        layout: \"BaseLayout\",\n",
      "        deepLinking: true,\n",
      "        showExtensions: true,\n",
      "        showCommonExtensions: true\n",
      "    })\n",
      "    </script>\n",
      "    </body>\n",
      "    </html>\n",
      "    "
     ]
    }
   ],
   "source": [
    "!curl http://63.35.140.90:8000/docs\n"
   ]
  },
  {
   "cell_type": "code",
   "execution_count": 17,
   "metadata": {},
   "outputs": [
    {
     "name": "stdout",
     "output_type": "stream",
     "text": [
      "1"
     ]
    }
   ],
   "source": [
    "!curl http://63.35.140.90:8000/status\n"
   ]
  },
  {
   "cell_type": "code",
   "execution_count": 18,
   "metadata": {},
   "outputs": [
    {
     "name": "stdout",
     "output_type": "stream",
     "text": [
      "{\"detail\":\"Authentication failed\"}"
     ]
    }
   ],
   "source": [
    "!curl http://63.35.140.90:8000/permissions\n"
   ]
  },
  {
   "cell_type": "code",
   "execution_count": 19,
   "metadata": {},
   "outputs": [
    {
     "name": "stdout",
     "output_type": "stream",
     "text": [
      "{\"detail\":\"Authentication failed\"}"
     ]
    }
   ],
   "source": [
    "!curl -X GET \"http://localhost:8000/permissions?username=testuser&password=testpass\""
   ]
  },
  {
   "cell_type": "code",
   "execution_count": 21,
   "metadata": {},
   "outputs": [
    {
     "name": "stdout",
     "output_type": "stream",
     "text": [
      "{\"detail\":\"Authentication failed\"}"
     ]
    }
   ],
   "source": [
    "!curl -X 'GET' \\\n",
    "  'http://localhost:8000/permissions?username=username&password=password' \\\n",
    "  -H 'accept: application/json'"
   ]
  },
  {
   "cell_type": "code",
   "execution_count": null,
   "metadata": {},
   "outputs": [],
   "source": [
    "!curl -X GET \"http://localhost:8000/v1/sentiment?username=testuser&password=testpass\""
   ]
  },
  {
   "cell_type": "code",
   "execution_count": 22,
   "metadata": {},
   "outputs": [
    {
     "name": "stdout",
     "output_type": "stream",
     "text": [
      "{\"detail\":\"Authentication failed\"}"
     ]
    }
   ],
   "source": [
    "!curl -X 'GET' \\\n",
    "  'http://localhost:8000/v2/sentiment?username=username&password=password&sentence=hello%20world' \\\n",
    "  -H 'accept: application/json'"
   ]
  },
  {
   "cell_type": "code",
   "execution_count": null,
   "metadata": {},
   "outputs": [],
   "source": []
  }
 ],
 "metadata": {
  "kernelspec": {
   "display_name": "dock",
   "language": "python",
   "name": "python3"
  },
  "language_info": {
   "codemirror_mode": {
    "name": "ipython",
    "version": 3
   },
   "file_extension": ".py",
   "mimetype": "text/x-python",
   "name": "python",
   "nbconvert_exporter": "python",
   "pygments_lexer": "ipython3",
   "version": "3.12.9"
  }
 },
 "nbformat": 4,
 "nbformat_minor": 2
}
