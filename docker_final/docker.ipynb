{
 "cells": [
  {
   "cell_type": "code",
   "execution_count": 4,
   "metadata": {},
   "outputs": [
    {
     "name": "stdout",
     "output_type": "stream",
     "text": [
      "1.0.0: Pulling from datascientest/fastapi\n",
      "Digest: sha256:7048b3ac7c21666f0965042eb2e9ac49849cefb67cc080b0d72ed9ad8b587b2d\n",
      "Status: Image is up to date for datascientest/fastapi:1.0.0\n",
      "docker.io/datascientest/fastapi:1.0.0\n"
     ]
    }
   ],
   "source": [
    "!docker image pull datascientest/fastapi:1.0.0\n"
   ]
  },
  {
   "cell_type": "code",
   "execution_count": 17,
   "metadata": {},
   "outputs": [
    {
     "name": "stdout",
     "output_type": "stream",
     "text": [
      "6bf831e88471\n"
     ]
    }
   ],
   "source": [
    "# Delete all containers (running and stopped)\n",
    "!docker rm -f $(docker ps -aq)\n"
   ]
  },
  {
   "cell_type": "code",
   "execution_count": 15,
   "metadata": {},
   "outputs": [
    {
     "name": "stdout",
     "output_type": "stream",
     "text": [
      "6bf831e88471baeb86927eb3b1cd710af578d7748bd6e0be191adcddd925c62c\n"
     ]
    }
   ],
   "source": [
    "!docker container run -d -p 8000:8000 datascientest/fastapi:1.0.0\n"
   ]
  },
  {
   "cell_type": "code",
   "execution_count": 18,
   "metadata": {},
   "outputs": [
    {
     "name": "stdout",
     "output_type": "stream",
     "text": [
      "CONTAINER ID   IMAGE     COMMAND   CREATED   STATUS    PORTS     NAMES\n"
     ]
    }
   ],
   "source": [
    "!docker ps -a"
   ]
  },
  {
   "cell_type": "code",
   "execution_count": 4,
   "metadata": {},
   "outputs": [
    {
     "name": "stdout",
     "output_type": "stream",
     "text": [
      "d00dff7b6216\n"
     ]
    }
   ],
   "source": [
    "!docker stop d00dff7b6216"
   ]
  },
  {
   "cell_type": "code",
   "execution_count": 9,
   "metadata": {},
   "outputs": [
    {
     "name": "stdout",
     "output_type": "stream",
     "text": [
      "1"
     ]
    }
   ],
   "source": [
    "!curl http://63.35.140.90:8000/status\n"
   ]
  },
  {
   "cell_type": "code",
   "execution_count": 10,
   "metadata": {},
   "outputs": [
    {
     "name": "stdout",
     "output_type": "stream",
     "text": [
      "{\"detail\":\"Authentication failed\"}"
     ]
    }
   ],
   "source": [
    "!curl http://63.35.140.90:8000/permissions\n"
   ]
  },
  {
   "cell_type": "code",
   "execution_count": 12,
   "metadata": {},
   "outputs": [
    {
     "name": "stdout",
     "output_type": "stream",
     "text": [
      "{\"username\":\"alice\",\"permissions\":[\"v1\",\"v2\"]}"
     ]
    }
   ],
   "source": [
    "!curl -X GET \"http://localhost:8000/permissions?username=alice&password=wonderland\""
   ]
  },
  {
   "cell_type": "code",
   "execution_count": null,
   "metadata": {},
   "outputs": [],
   "source": []
  }
 ],
 "metadata": {
  "kernelspec": {
   "display_name": "dock",
   "language": "python",
   "name": "python3"
  },
  "language_info": {
   "codemirror_mode": {
    "name": "ipython",
    "version": 3
   },
   "file_extension": ".py",
   "mimetype": "text/x-python",
   "name": "python",
   "nbconvert_exporter": "python",
   "pygments_lexer": "ipython3",
   "version": "3.12.9"
  }
 },
 "nbformat": 4,
 "nbformat_minor": 2
}
