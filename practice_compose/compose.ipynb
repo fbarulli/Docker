{
 "cells": [
  {
   "cell_type": "code",
   "execution_count": 3,
   "metadata": {},
   "outputs": [
    {
     "name": "stdout",
     "output_type": "stream",
     "text": [
      "Building with native build. Learn about native build in Compose here: https://docs.docker.com/go/compose-native-build/\n",
      "Recreating practice_compose_jupyter_1 ... \n",
      "Recreating practice_compose_elasticsearch_1 ... \n",
      "\u001b[2BAttaching to practice_compose_elasticsearch_1, practice_compose_jupyter_1\n",
      "\u001b[33mjupyter_1        |\u001b[0m Executing the command: jupyter notebook\n",
      "\u001b[33mjupyter_1        |\u001b[0m [I 09:52:55.670 NotebookApp] Writing notebook server cookie secret to /home/jovyan/.local/share/jupyter/runtime/notebook_cookie_secret\n",
      "\u001b[36melasticsearch_1  |\u001b[0m OpenJDK 64-Bit Server VM warning: Option UseConcMarkSweepGC was deprecated in version 9.0 and will likely be removed in a future release.\n",
      "\u001b[33mjupyter_1        |\u001b[0m [I 09:52:57.036 NotebookApp] JupyterLab extension loaded from /opt/conda/lib/python3.7/site-packages/jupyterlab\n",
      "\u001b[33mjupyter_1        |\u001b[0m [I 09:52:57.036 NotebookApp] JupyterLab application directory is /opt/conda/share/jupyter/lab\n",
      "\u001b[33mjupyter_1        |\u001b[0m [I 09:52:57.042 NotebookApp] Serving notebooks from local directory: /home/jovyan\n",
      "\u001b[33mjupyter_1        |\u001b[0m [I 09:52:57.043 NotebookApp] The Jupyter Notebook is running at:\n",
      "\u001b[33mjupyter_1        |\u001b[0m [I 09:52:57.043 NotebookApp] http://dc4f4fb7c94a:8888/?token=814f37a78aa9b6f2ab4f016fad6cf27b653647324c83b980\n",
      "\u001b[33mjupyter_1        |\u001b[0m [I 09:52:57.044 NotebookApp]  or http://127.0.0.1:8888/?token=814f37a78aa9b6f2ab4f016fad6cf27b653647324c83b980\n",
      "\u001b[33mjupyter_1        |\u001b[0m [I 09:52:57.045 NotebookApp] Use Control-C to stop this server and shut down all kernels (twice to skip confirmation).\n",
      "\u001b[33mjupyter_1        |\u001b[0m [C 09:52:57.052 NotebookApp] \n",
      "\u001b[33mjupyter_1        |\u001b[0m     \n",
      "\u001b[33mjupyter_1        |\u001b[0m     To access the notebook, open this file in a browser:\n",
      "\u001b[33mjupyter_1        |\u001b[0m         file:///home/jovyan/.local/share/jupyter/runtime/nbserver-8-open.html\n",
      "\u001b[33mjupyter_1        |\u001b[0m     Or copy and paste one of these URLs:\n",
      "\u001b[33mjupyter_1        |\u001b[0m         http://dc4f4fb7c94a:8888/?token=814f37a78aa9b6f2ab4f016fad6cf27b653647324c83b980\n",
      "\u001b[33mjupyter_1        |\u001b[0m      or http://127.0.0.1:8888/?token=814f37a78aa9b6f2ab4f016fad6cf27b653647324c83b980\n",
      "\u001b[36melasticsearch_1  |\u001b[0m {\"type\": \"server\", \"timestamp\": \"2025-03-14T09:52:59,987+0000\", \"level\": \"INFO\", \"component\": \"o.e.e.NodeEnvironment\", \"cluster.name\": \"docker-cluster\", \"node.name\": \"8059b75156b0\",  \"message\": \"using [1] data paths, mounts [[/ (overlay)]], net usable_space [4.4gb], net total_space [15.4gb], types [overlay]\"  }\n",
      "\u001b[36melasticsearch_1  |\u001b[0m {\"type\": \"server\", \"timestamp\": \"2025-03-14T09:52:59,991+0000\", \"level\": \"INFO\", \"component\": \"o.e.e.NodeEnvironment\", \"cluster.name\": \"docker-cluster\", \"node.name\": \"8059b75156b0\",  \"message\": \"heap size [1007.3mb], compressed ordinary object pointers [true]\"  }\n",
      "\u001b[36melasticsearch_1  |\u001b[0m {\"type\": \"server\", \"timestamp\": \"2025-03-14T09:52:59,999+0000\", \"level\": \"INFO\", \"component\": \"o.e.n.Node\", \"cluster.name\": \"docker-cluster\", \"node.name\": \"8059b75156b0\",  \"message\": \"node name [8059b75156b0], node ID [csFb0KkoSySHkd34FfkFLQ], cluster name [docker-cluster]\"  }\n",
      "\u001b[36melasticsearch_1  |\u001b[0m {\"type\": \"server\", \"timestamp\": \"2025-03-14T09:53:00,002+0000\", \"level\": \"INFO\", \"component\": \"o.e.n.Node\", \"cluster.name\": \"docker-cluster\", \"node.name\": \"8059b75156b0\",  \"message\": \"version[7.2.0], pid[1], build[default/docker/508c38a/2019-06-20T15:54:18.811730Z], OS[Linux/5.15.0-1038-aws/amd64], JVM[Oracle Corporation/OpenJDK 64-Bit Server VM/12.0.1/12.0.1+12]\"  }\n",
      "\u001b[36melasticsearch_1  |\u001b[0m {\"type\": \"server\", \"timestamp\": \"2025-03-14T09:53:00,004+0000\", \"level\": \"INFO\", \"component\": \"o.e.n.Node\", \"cluster.name\": \"docker-cluster\", \"node.name\": \"8059b75156b0\",  \"message\": \"JVM home [/usr/share/elasticsearch/jdk]\"  }\n",
      "\u001b[36melasticsearch_1  |\u001b[0m {\"type\": \"server\", \"timestamp\": \"2025-03-14T09:53:00,005+0000\", \"level\": \"INFO\", \"component\": \"o.e.n.Node\", \"cluster.name\": \"docker-cluster\", \"node.name\": \"8059b75156b0\",  \"message\": \"JVM arguments [-Xms1g, -Xmx1g, -XX:+UseConcMarkSweepGC, -XX:CMSInitiatingOccupancyFraction=75, -XX:+UseCMSInitiatingOccupancyOnly, -Des.networkaddress.cache.ttl=60, -Des.networkaddress.cache.negative.ttl=10, -XX:+AlwaysPreTouch, -Xss1m, -Djava.awt.headless=true, -Dfile.encoding=UTF-8, -Djna.nosys=true, -XX:-OmitStackTraceInFastThrow, -Dio.netty.noUnsafe=true, -Dio.netty.noKeySetOptimization=true, -Dio.netty.recycler.maxCapacityPerThread=0, -Dlog4j.shutdownHookEnabled=false, -Dlog4j2.disable.jmx=true, -Djava.io.tmpdir=/tmp/elasticsearch-582870051668134698, -XX:+HeapDumpOnOutOfMemoryError, -XX:HeapDumpPath=data, -XX:ErrorFile=logs/hs_err_pid%p.log, -Xlog:gc*,gc+age=trace,safepoint:file=logs/gc.log:utctime,pid,tags:filecount=32,filesize=64m, -Djava.locale.providers=COMPAT, -Des.cgroups.hierarchy.override=/, -Dio.netty.allocator.type=unpooled, -XX:MaxDirectMemorySize=536870912, -Des.path.home=/usr/share/elasticsearch, -Des.path.conf=/usr/share/elasticsearch/config, -Des.distribution.flavor=default, -Des.distribution.type=docker, -Des.bundled_jdk=true]\"  }\n",
      "\u001b[36melasticsearch_1  |\u001b[0m {\"type\": \"server\", \"timestamp\": \"2025-03-14T09:53:03,163+0000\", \"level\": \"INFO\", \"component\": \"o.e.p.PluginsService\", \"cluster.name\": \"docker-cluster\", \"node.name\": \"8059b75156b0\",  \"message\": \"loaded module [aggs-matrix-stats]\"  }\n",
      "\u001b[36melasticsearch_1  |\u001b[0m {\"type\": \"server\", \"timestamp\": \"2025-03-14T09:53:03,164+0000\", \"level\": \"INFO\", \"component\": \"o.e.p.PluginsService\", \"cluster.name\": \"docker-cluster\", \"node.name\": \"8059b75156b0\",  \"message\": \"loaded module [analysis-common]\"  }\n",
      "\u001b[36melasticsearch_1  |\u001b[0m {\"type\": \"server\", \"timestamp\": \"2025-03-14T09:53:03,165+0000\", \"level\": \"INFO\", \"component\": \"o.e.p.PluginsService\", \"cluster.name\": \"docker-cluster\", \"node.name\": \"8059b75156b0\",  \"message\": \"loaded module [data-frame]\"  }\n",
      "\u001b[36melasticsearch_1  |\u001b[0m {\"type\": \"server\", \"timestamp\": \"2025-03-14T09:53:03,165+0000\", \"level\": \"INFO\", \"component\": \"o.e.p.PluginsService\", \"cluster.name\": \"docker-cluster\", \"node.name\": \"8059b75156b0\",  \"message\": \"loaded module [ingest-common]\"  }\n",
      "\u001b[36melasticsearch_1  |\u001b[0m {\"type\": \"server\", \"timestamp\": \"2025-03-14T09:53:03,166+0000\", \"level\": \"INFO\", \"component\": \"o.e.p.PluginsService\", \"cluster.name\": \"docker-cluster\", \"node.name\": \"8059b75156b0\",  \"message\": \"loaded module [ingest-geoip]\"  }\n",
      "\u001b[36melasticsearch_1  |\u001b[0m {\"type\": \"server\", \"timestamp\": \"2025-03-14T09:53:03,166+0000\", \"level\": \"INFO\", \"component\": \"o.e.p.PluginsService\", \"cluster.name\": \"docker-cluster\", \"node.name\": \"8059b75156b0\",  \"message\": \"loaded module [ingest-user-agent]\"  }\n",
      "\u001b[36melasticsearch_1  |\u001b[0m {\"type\": \"server\", \"timestamp\": \"2025-03-14T09:53:03,167+0000\", \"level\": \"INFO\", \"component\": \"o.e.p.PluginsService\", \"cluster.name\": \"docker-cluster\", \"node.name\": \"8059b75156b0\",  \"message\": \"loaded module [lang-expression]\"  }\n",
      "\u001b[36melasticsearch_1  |\u001b[0m {\"type\": \"server\", \"timestamp\": \"2025-03-14T09:53:03,167+0000\", \"level\": \"INFO\", \"component\": \"o.e.p.PluginsService\", \"cluster.name\": \"docker-cluster\", \"node.name\": \"8059b75156b0\",  \"message\": \"loaded module [lang-mustache]\"  }\n",
      "\u001b[36melasticsearch_1  |\u001b[0m {\"type\": \"server\", \"timestamp\": \"2025-03-14T09:53:03,168+0000\", \"level\": \"INFO\", \"component\": \"o.e.p.PluginsService\", \"cluster.name\": \"docker-cluster\", \"node.name\": \"8059b75156b0\",  \"message\": \"loaded module [lang-painless]\"  }\n",
      "\u001b[36melasticsearch_1  |\u001b[0m {\"type\": \"server\", \"timestamp\": \"2025-03-14T09:53:03,168+0000\", \"level\": \"INFO\", \"component\": \"o.e.p.PluginsService\", \"cluster.name\": \"docker-cluster\", \"node.name\": \"8059b75156b0\",  \"message\": \"loaded module [mapper-extras]\"  }\n",
      "\u001b[36melasticsearch_1  |\u001b[0m {\"type\": \"server\", \"timestamp\": \"2025-03-14T09:53:03,169+0000\", \"level\": \"INFO\", \"component\": \"o.e.p.PluginsService\", \"cluster.name\": \"docker-cluster\", \"node.name\": \"8059b75156b0\",  \"message\": \"loaded module [parent-join]\"  }\n",
      "\u001b[36melasticsearch_1  |\u001b[0m {\"type\": \"server\", \"timestamp\": \"2025-03-14T09:53:03,169+0000\", \"level\": \"INFO\", \"component\": \"o.e.p.PluginsService\", \"cluster.name\": \"docker-cluster\", \"node.name\": \"8059b75156b0\",  \"message\": \"loaded module [percolator]\"  }\n",
      "\u001b[36melasticsearch_1  |\u001b[0m {\"type\": \"server\", \"timestamp\": \"2025-03-14T09:53:03,170+0000\", \"level\": \"INFO\", \"component\": \"o.e.p.PluginsService\", \"cluster.name\": \"docker-cluster\", \"node.name\": \"8059b75156b0\",  \"message\": \"loaded module [rank-eval]\"  }\n",
      "\u001b[36melasticsearch_1  |\u001b[0m {\"type\": \"server\", \"timestamp\": \"2025-03-14T09:53:03,171+0000\", \"level\": \"INFO\", \"component\": \"o.e.p.PluginsService\", \"cluster.name\": \"docker-cluster\", \"node.name\": \"8059b75156b0\",  \"message\": \"loaded module [reindex]\"  }\n",
      "\u001b[36melasticsearch_1  |\u001b[0m {\"type\": \"server\", \"timestamp\": \"2025-03-14T09:53:03,171+0000\", \"level\": \"INFO\", \"component\": \"o.e.p.PluginsService\", \"cluster.name\": \"docker-cluster\", \"node.name\": \"8059b75156b0\",  \"message\": \"loaded module [repository-url]\"  }\n",
      "\u001b[36melasticsearch_1  |\u001b[0m {\"type\": \"server\", \"timestamp\": \"2025-03-14T09:53:03,172+0000\", \"level\": \"INFO\", \"component\": \"o.e.p.PluginsService\", \"cluster.name\": \"docker-cluster\", \"node.name\": \"8059b75156b0\",  \"message\": \"loaded module [transport-netty4]\"  }\n",
      "\u001b[36melasticsearch_1  |\u001b[0m {\"type\": \"server\", \"timestamp\": \"2025-03-14T09:53:03,172+0000\", \"level\": \"INFO\", \"component\": \"o.e.p.PluginsService\", \"cluster.name\": \"docker-cluster\", \"node.name\": \"8059b75156b0\",  \"message\": \"loaded module [x-pack-ccr]\"  }\n",
      "\u001b[36melasticsearch_1  |\u001b[0m {\"type\": \"server\", \"timestamp\": \"2025-03-14T09:53:03,173+0000\", \"level\": \"INFO\", \"component\": \"o.e.p.PluginsService\", \"cluster.name\": \"docker-cluster\", \"node.name\": \"8059b75156b0\",  \"message\": \"loaded module [x-pack-core]\"  }\n",
      "\u001b[36melasticsearch_1  |\u001b[0m {\"type\": \"server\", \"timestamp\": \"2025-03-14T09:53:03,173+0000\", \"level\": \"INFO\", \"component\": \"o.e.p.PluginsService\", \"cluster.name\": \"docker-cluster\", \"node.name\": \"8059b75156b0\",  \"message\": \"loaded module [x-pack-deprecation]\"  }\n",
      "\u001b[36melasticsearch_1  |\u001b[0m {\"type\": \"server\", \"timestamp\": \"2025-03-14T09:53:03,174+0000\", \"level\": \"INFO\", \"component\": \"o.e.p.PluginsService\", \"cluster.name\": \"docker-cluster\", \"node.name\": \"8059b75156b0\",  \"message\": \"loaded module [x-pack-graph]\"  }\n",
      "\u001b[36melasticsearch_1  |\u001b[0m {\"type\": \"server\", \"timestamp\": \"2025-03-14T09:53:03,174+0000\", \"level\": \"INFO\", \"component\": \"o.e.p.PluginsService\", \"cluster.name\": \"docker-cluster\", \"node.name\": \"8059b75156b0\",  \"message\": \"loaded module [x-pack-ilm]\"  }\n",
      "\u001b[36melasticsearch_1  |\u001b[0m {\"type\": \"server\", \"timestamp\": \"2025-03-14T09:53:03,175+0000\", \"level\": \"INFO\", \"component\": \"o.e.p.PluginsService\", \"cluster.name\": \"docker-cluster\", \"node.name\": \"8059b75156b0\",  \"message\": \"loaded module [x-pack-logstash]\"  }\n",
      "\u001b[36melasticsearch_1  |\u001b[0m {\"type\": \"server\", \"timestamp\": \"2025-03-14T09:53:03,175+0000\", \"level\": \"INFO\", \"component\": \"o.e.p.PluginsService\", \"cluster.name\": \"docker-cluster\", \"node.name\": \"8059b75156b0\",  \"message\": \"loaded module [x-pack-ml]\"  }\n",
      "\u001b[36melasticsearch_1  |\u001b[0m {\"type\": \"server\", \"timestamp\": \"2025-03-14T09:53:03,175+0000\", \"level\": \"INFO\", \"component\": \"o.e.p.PluginsService\", \"cluster.name\": \"docker-cluster\", \"node.name\": \"8059b75156b0\",  \"message\": \"loaded module [x-pack-monitoring]\"  }\n",
      "\u001b[36melasticsearch_1  |\u001b[0m {\"type\": \"server\", \"timestamp\": \"2025-03-14T09:53:03,176+0000\", \"level\": \"INFO\", \"component\": \"o.e.p.PluginsService\", \"cluster.name\": \"docker-cluster\", \"node.name\": \"8059b75156b0\",  \"message\": \"loaded module [x-pack-rollup]\"  }\n",
      "\u001b[36melasticsearch_1  |\u001b[0m {\"type\": \"server\", \"timestamp\": \"2025-03-14T09:53:03,176+0000\", \"level\": \"INFO\", \"component\": \"o.e.p.PluginsService\", \"cluster.name\": \"docker-cluster\", \"node.name\": \"8059b75156b0\",  \"message\": \"loaded module [x-pack-security]\"  }\n",
      "\u001b[36melasticsearch_1  |\u001b[0m {\"type\": \"server\", \"timestamp\": \"2025-03-14T09:53:03,177+0000\", \"level\": \"INFO\", \"component\": \"o.e.p.PluginsService\", \"cluster.name\": \"docker-cluster\", \"node.name\": \"8059b75156b0\",  \"message\": \"loaded module [x-pack-sql]\"  }\n",
      "\u001b[36melasticsearch_1  |\u001b[0m {\"type\": \"server\", \"timestamp\": \"2025-03-14T09:53:03,177+0000\", \"level\": \"INFO\", \"component\": \"o.e.p.PluginsService\", \"cluster.name\": \"docker-cluster\", \"node.name\": \"8059b75156b0\",  \"message\": \"loaded module [x-pack-watcher]\"  }\n",
      "\u001b[36melasticsearch_1  |\u001b[0m {\"type\": \"server\", \"timestamp\": \"2025-03-14T09:53:03,178+0000\", \"level\": \"INFO\", \"component\": \"o.e.p.PluginsService\", \"cluster.name\": \"docker-cluster\", \"node.name\": \"8059b75156b0\",  \"message\": \"no plugins loaded\"  }\n",
      "\u001b[36melasticsearch_1  |\u001b[0m {\"type\": \"server\", \"timestamp\": \"2025-03-14T09:53:09,967+0000\", \"level\": \"INFO\", \"component\": \"o.e.x.s.a.s.FileRolesStore\", \"cluster.name\": \"docker-cluster\", \"node.name\": \"8059b75156b0\",  \"message\": \"parsed [0] roles from file [/usr/share/elasticsearch/config/roles.yml]\"  }\n",
      "\u001b[36melasticsearch_1  |\u001b[0m {\"type\": \"server\", \"timestamp\": \"2025-03-14T09:53:11,456+0000\", \"level\": \"INFO\", \"component\": \"o.e.x.m.p.l.CppLogMessageHandler\", \"cluster.name\": \"docker-cluster\", \"node.name\": \"8059b75156b0\",  \"message\": \"[controller/102] [Main.cc@110] controller (64 bit): Version 7.2.0 (Build 65aefcbfce449b) Copyright (c) 2019 Elasticsearch BV\"  }\n",
      "\u001b[36melasticsearch_1  |\u001b[0m {\"type\": \"server\", \"timestamp\": \"2025-03-14T09:53:12,211+0000\", \"level\": \"DEBUG\", \"component\": \"o.e.a.ActionModule\", \"cluster.name\": \"docker-cluster\", \"node.name\": \"8059b75156b0\",  \"message\": \"Using REST wrapper from plugin org.elasticsearch.xpack.security.Security\"  }\n",
      "\u001b[36melasticsearch_1  |\u001b[0m {\"type\": \"server\", \"timestamp\": \"2025-03-14T09:53:12,694+0000\", \"level\": \"INFO\", \"component\": \"o.e.d.DiscoveryModule\", \"cluster.name\": \"docker-cluster\", \"node.name\": \"8059b75156b0\",  \"message\": \"using discovery type [single-node] and seed hosts providers [settings]\"  }\n",
      "\u001b[36melasticsearch_1  |\u001b[0m {\"type\": \"server\", \"timestamp\": \"2025-03-14T09:53:14,080+0000\", \"level\": \"INFO\", \"component\": \"o.e.n.Node\", \"cluster.name\": \"docker-cluster\", \"node.name\": \"8059b75156b0\",  \"message\": \"initialized\"  }\n",
      "\u001b[36melasticsearch_1  |\u001b[0m {\"type\": \"server\", \"timestamp\": \"2025-03-14T09:53:14,081+0000\", \"level\": \"INFO\", \"component\": \"o.e.n.Node\", \"cluster.name\": \"docker-cluster\", \"node.name\": \"8059b75156b0\",  \"message\": \"starting ...\"  }\n",
      "\u001b[36melasticsearch_1  |\u001b[0m {\"type\": \"server\", \"timestamp\": \"2025-03-14T09:53:14,332+0000\", \"level\": \"INFO\", \"component\": \"o.e.t.TransportService\", \"cluster.name\": \"docker-cluster\", \"node.name\": \"8059b75156b0\",  \"message\": \"publish_address {172.18.0.2:9300}, bound_addresses {0.0.0.0:9300}\"  }\n",
      "\u001b[36melasticsearch_1  |\u001b[0m {\"type\": \"server\", \"timestamp\": \"2025-03-14T09:53:14,347+0000\", \"level\": \"WARN\", \"component\": \"o.e.b.BootstrapChecks\", \"cluster.name\": \"docker-cluster\", \"node.name\": \"8059b75156b0\",  \"message\": \"max virtual memory areas vm.max_map_count [65530] is too low, increase to at least [262144]\"  }\n",
      "\u001b[36melasticsearch_1  |\u001b[0m {\"type\": \"server\", \"timestamp\": \"2025-03-14T09:53:14,365+0000\", \"level\": \"INFO\", \"component\": \"o.e.c.c.Coordinator\", \"cluster.name\": \"docker-cluster\", \"node.name\": \"8059b75156b0\",  \"message\": \"setting initial configuration to VotingConfiguration{csFb0KkoSySHkd34FfkFLQ}\"  }\n",
      "\u001b[36melasticsearch_1  |\u001b[0m {\"type\": \"server\", \"timestamp\": \"2025-03-14T09:53:14,592+0000\", \"level\": \"INFO\", \"component\": \"o.e.c.s.MasterService\", \"cluster.name\": \"docker-cluster\", \"node.name\": \"8059b75156b0\",  \"message\": \"elected-as-master ([1] nodes joined)[{8059b75156b0}{csFb0KkoSySHkd34FfkFLQ}{pSKqe-KkTOm0rfis8JBj5Q}{172.18.0.2}{172.18.0.2:9300}{ml.machine_memory=4051664896, xpack.installed=true, ml.max_open_jobs=20} elect leader, _BECOME_MASTER_TASK_, _FINISH_ELECTION_], term: 1, version: 1, reason: master node changed {previous [], current [{8059b75156b0}{csFb0KkoSySHkd34FfkFLQ}{pSKqe-KkTOm0rfis8JBj5Q}{172.18.0.2}{172.18.0.2:9300}{ml.machine_memory=4051664896, xpack.installed=true, ml.max_open_jobs=20}]}\"  }\n",
      "\u001b[36melasticsearch_1  |\u001b[0m {\"type\": \"server\", \"timestamp\": \"2025-03-14T09:53:14,634+0000\", \"level\": \"INFO\", \"component\": \"o.e.c.c.CoordinationState\", \"cluster.name\": \"docker-cluster\", \"node.name\": \"8059b75156b0\",  \"message\": \"cluster UUID set to [6e02FRwfTKaOUDcH6IQXXA]\"  }\n",
      "\u001b[36melasticsearch_1  |\u001b[0m {\"type\": \"server\", \"timestamp\": \"2025-03-14T09:53:14,664+0000\", \"level\": \"INFO\", \"component\": \"o.e.c.s.ClusterApplierService\", \"cluster.name\": \"docker-cluster\", \"node.name\": \"8059b75156b0\",  \"message\": \"master node changed {previous [], current [{8059b75156b0}{csFb0KkoSySHkd34FfkFLQ}{pSKqe-KkTOm0rfis8JBj5Q}{172.18.0.2}{172.18.0.2:9300}{ml.machine_memory=4051664896, xpack.installed=true, ml.max_open_jobs=20}]}, term: 1, version: 1, reason: Publication{term=1, version=1}\"  }\n",
      "\u001b[36melasticsearch_1  |\u001b[0m {\"type\": \"server\", \"timestamp\": \"2025-03-14T09:53:14,798+0000\", \"level\": \"INFO\", \"component\": \"o.e.h.AbstractHttpServerTransport\", \"cluster.name\": \"docker-cluster\", \"node.name\": \"8059b75156b0\", \"cluster.uuid\": \"6e02FRwfTKaOUDcH6IQXXA\", \"node.id\": \"csFb0KkoSySHkd34FfkFLQ\",  \"message\": \"publish_address {172.18.0.2:9200}, bound_addresses {0.0.0.0:9200}\"  }\n",
      "\u001b[36melasticsearch_1  |\u001b[0m {\"type\": \"server\", \"timestamp\": \"2025-03-14T09:53:14,802+0000\", \"level\": \"INFO\", \"component\": \"o.e.n.Node\", \"cluster.name\": \"docker-cluster\", \"node.name\": \"8059b75156b0\", \"cluster.uuid\": \"6e02FRwfTKaOUDcH6IQXXA\", \"node.id\": \"csFb0KkoSySHkd34FfkFLQ\",  \"message\": \"started\"  }\n",
      "\u001b[36melasticsearch_1  |\u001b[0m {\"type\": \"server\", \"timestamp\": \"2025-03-14T09:53:14,951+0000\", \"level\": \"INFO\", \"component\": \"o.e.g.GatewayService\", \"cluster.name\": \"docker-cluster\", \"node.name\": \"8059b75156b0\", \"cluster.uuid\": \"6e02FRwfTKaOUDcH6IQXXA\", \"node.id\": \"csFb0KkoSySHkd34FfkFLQ\",  \"message\": \"recovered [0] indices into cluster_state\"  }\n",
      "\u001b[36melasticsearch_1  |\u001b[0m {\"type\": \"server\", \"timestamp\": \"2025-03-14T09:53:15,316+0000\", \"level\": \"INFO\", \"component\": \"o.e.c.m.MetaDataIndexTemplateService\", \"cluster.name\": \"docker-cluster\", \"node.name\": \"8059b75156b0\", \"cluster.uuid\": \"6e02FRwfTKaOUDcH6IQXXA\", \"node.id\": \"csFb0KkoSySHkd34FfkFLQ\",  \"message\": \"adding template [.triggered_watches] for index patterns [.triggered_watches*]\"  }\n",
      "\u001b[36melasticsearch_1  |\u001b[0m {\"type\": \"server\", \"timestamp\": \"2025-03-14T09:53:15,382+0000\", \"level\": \"INFO\", \"component\": \"o.e.c.m.MetaDataIndexTemplateService\", \"cluster.name\": \"docker-cluster\", \"node.name\": \"8059b75156b0\", \"cluster.uuid\": \"6e02FRwfTKaOUDcH6IQXXA\", \"node.id\": \"csFb0KkoSySHkd34FfkFLQ\",  \"message\": \"adding template [.watches] for index patterns [.watches*]\"  }\n",
      "\u001b[36melasticsearch_1  |\u001b[0m {\"type\": \"server\", \"timestamp\": \"2025-03-14T09:53:15,512+0000\", \"level\": \"INFO\", \"component\": \"o.e.c.m.MetaDataIndexTemplateService\", \"cluster.name\": \"docker-cluster\", \"node.name\": \"8059b75156b0\", \"cluster.uuid\": \"6e02FRwfTKaOUDcH6IQXXA\", \"node.id\": \"csFb0KkoSySHkd34FfkFLQ\",  \"message\": \"adding template [.watch-history-9] for index patterns [.watcher-history-9*]\"  }\n",
      "\u001b[36melasticsearch_1  |\u001b[0m {\"type\": \"server\", \"timestamp\": \"2025-03-14T09:53:15,613+0000\", \"level\": \"INFO\", \"component\": \"o.e.c.m.MetaDataIndexTemplateService\", \"cluster.name\": \"docker-cluster\", \"node.name\": \"8059b75156b0\", \"cluster.uuid\": \"6e02FRwfTKaOUDcH6IQXXA\", \"node.id\": \"csFb0KkoSySHkd34FfkFLQ\",  \"message\": \"adding template [.monitoring-logstash] for index patterns [.monitoring-logstash-7-*]\"  }\n",
      "\u001b[36melasticsearch_1  |\u001b[0m {\"type\": \"server\", \"timestamp\": \"2025-03-14T09:53:15,725+0000\", \"level\": \"INFO\", \"component\": \"o.e.c.m.MetaDataIndexTemplateService\", \"cluster.name\": \"docker-cluster\", \"node.name\": \"8059b75156b0\", \"cluster.uuid\": \"6e02FRwfTKaOUDcH6IQXXA\", \"node.id\": \"csFb0KkoSySHkd34FfkFLQ\",  \"message\": \"adding template [.monitoring-es] for index patterns [.monitoring-es-7-*]\"  }\n",
      "\u001b[36melasticsearch_1  |\u001b[0m {\"type\": \"server\", \"timestamp\": \"2025-03-14T09:53:15,798+0000\", \"level\": \"INFO\", \"component\": \"o.e.c.m.MetaDataIndexTemplateService\", \"cluster.name\": \"docker-cluster\", \"node.name\": \"8059b75156b0\", \"cluster.uuid\": \"6e02FRwfTKaOUDcH6IQXXA\", \"node.id\": \"csFb0KkoSySHkd34FfkFLQ\",  \"message\": \"adding template [.monitoring-beats] for index patterns [.monitoring-beats-7-*]\"  }\n",
      "\u001b[36melasticsearch_1  |\u001b[0m {\"type\": \"server\", \"timestamp\": \"2025-03-14T09:53:15,862+0000\", \"level\": \"INFO\", \"component\": \"o.e.c.m.MetaDataIndexTemplateService\", \"cluster.name\": \"docker-cluster\", \"node.name\": \"8059b75156b0\", \"cluster.uuid\": \"6e02FRwfTKaOUDcH6IQXXA\", \"node.id\": \"csFb0KkoSySHkd34FfkFLQ\",  \"message\": \"adding template [.monitoring-alerts-7] for index patterns [.monitoring-alerts-7]\"  }\n",
      "\u001b[36melasticsearch_1  |\u001b[0m {\"type\": \"server\", \"timestamp\": \"2025-03-14T09:53:15,927+0000\", \"level\": \"INFO\", \"component\": \"o.e.c.m.MetaDataIndexTemplateService\", \"cluster.name\": \"docker-cluster\", \"node.name\": \"8059b75156b0\", \"cluster.uuid\": \"6e02FRwfTKaOUDcH6IQXXA\", \"node.id\": \"csFb0KkoSySHkd34FfkFLQ\",  \"message\": \"adding template [.monitoring-kibana] for index patterns [.monitoring-kibana-7-*]\"  }\n",
      "\u001b[36melasticsearch_1  |\u001b[0m {\"type\": \"server\", \"timestamp\": \"2025-03-14T09:53:15,988+0000\", \"level\": \"INFO\", \"component\": \"o.e.x.i.a.TransportPutLifecycleAction\", \"cluster.name\": \"docker-cluster\", \"node.name\": \"8059b75156b0\", \"cluster.uuid\": \"6e02FRwfTKaOUDcH6IQXXA\", \"node.id\": \"csFb0KkoSySHkd34FfkFLQ\",  \"message\": \"adding index lifecycle policy [watch-history-ilm-policy]\"  }\n",
      "\u001b[36melasticsearch_1  |\u001b[0m {\"type\": \"server\", \"timestamp\": \"2025-03-14T09:53:16,157+0000\", \"level\": \"INFO\", \"component\": \"o.e.l.LicenseService\", \"cluster.name\": \"docker-cluster\", \"node.name\": \"8059b75156b0\", \"cluster.uuid\": \"6e02FRwfTKaOUDcH6IQXXA\", \"node.id\": \"csFb0KkoSySHkd34FfkFLQ\",  \"message\": \"license [5a3d504c-e3d0-4303-80ed-70e130706307] mode [basic] - valid\"  }\n",
      "Gracefully stopping... (press Ctrl+C again to force)\n",
      "Stopping practice_compose_jupyter_1         ... \n",
      "Stopping practice_compose_elasticsearch_1   ... \n",
      "^C\n",
      "Killing practice_compose_jupyter_1          ... \n",
      "Killing practice_compose_elasticsearch_1    ... \n"
     ]
    }
   ],
   "source": [
    "!docker-compose up"
   ]
  },
  {
   "cell_type": "code",
   "execution_count": 2,
   "metadata": {},
   "outputs": [
    {
     "name": "stdout",
     "output_type": "stream",
     "text": [
      "CONTAINER ID   IMAGE             COMMAND                  CREATED          STATUS          PORTS                    NAMES\n",
      "ecfe0a3b102d   my_image:latest   \"/bin/sh -c 'python3…\"   11 minutes ago   Up 11 minutes   0.0.0.0:5000->5000/tcp   frosty_hoover\n"
     ]
    }
   ],
   "source": [
    "!docker container ls"
   ]
  },
  {
   "cell_type": "code",
   "execution_count": 4,
   "metadata": {},
   "outputs": [
    {
     "name": "stdout",
     "output_type": "stream",
     "text": [
      "CONTAINER ID   IMAGE                                   COMMAND                  CREATED          STATUS              PORTS                    NAMES\n",
      "dc4f4fb7c94a   jupyter/minimal-notebook:ubuntu-18.04   \"tini -g -- start-no…\"   2 minutes ago    Up About a minute   0.0.0.0:4444->8888/tcp   practice_compose_jupyter_1\n",
      "8059b75156b0   elasticsearch:7.2.0                     \"/usr/local/bin/dock…\"   2 minutes ago    Up About a minute   9200/tcp, 9300/tcp       practice_compose_elasticsearch_1\n",
      "ecfe0a3b102d   my_image:latest                         \"/bin/sh -c 'python3…\"   14 minutes ago   Up 14 minutes       0.0.0.0:5000->5000/tcp   frosty_hoover\n"
     ]
    }
   ],
   "source": [
    "!docker ps\n"
   ]
  },
  {
   "cell_type": "code",
   "execution_count": 6,
   "metadata": {},
   "outputs": [
    {
     "name": "stdout",
     "output_type": "stream",
     "text": [
      "Executing the command: jupyter notebook\n",
      "[I 09:52:55.670 NotebookApp] Writing notebook server cookie secret to /home/jovyan/.local/share/jupyter/runtime/notebook_cookie_secret\n",
      "[I 09:52:57.036 NotebookApp] JupyterLab extension loaded from /opt/conda/lib/python3.7/site-packages/jupyterlab\n",
      "[I 09:52:57.036 NotebookApp] JupyterLab application directory is /opt/conda/share/jupyter/lab\n",
      "[I 09:52:57.042 NotebookApp] Serving notebooks from local directory: /home/jovyan\n",
      "[I 09:52:57.043 NotebookApp] The Jupyter Notebook is running at:\n",
      "[I 09:52:57.043 NotebookApp] http://dc4f4fb7c94a:8888/?token=814f37a78aa9b6f2ab4f016fad6cf27b653647324c83b980\n",
      "[I 09:52:57.044 NotebookApp]  or http://127.0.0.1:8888/?token=814f37a78aa9b6f2ab4f016fad6cf27b653647324c83b980\n",
      "[I 09:52:57.045 NotebookApp] Use Control-C to stop this server and shut down all kernels (twice to skip confirmation).\n",
      "[C 09:52:57.052 NotebookApp] \n",
      "    \n",
      "    To access the notebook, open this file in a browser:\n",
      "        file:///home/jovyan/.local/share/jupyter/runtime/nbserver-8-open.html\n",
      "    Or copy and paste one of these URLs:\n",
      "        http://dc4f4fb7c94a:8888/?token=814f37a78aa9b6f2ab4f016fad6cf27b653647324c83b980\n",
      "     or http://127.0.0.1:8888/?token=814f37a78aa9b6f2ab4f016fad6cf27b653647324c83b980\n",
      "[C 09:53:18.024 NotebookApp] received signal 15, stopping\n",
      "[I 09:53:18.026 NotebookApp] Shutting down 0 kernels\n",
      "Executing the command: jupyter notebook\n",
      "[I 09:53:33.807 NotebookApp] JupyterLab extension loaded from /opt/conda/lib/python3.7/site-packages/jupyterlab\n",
      "[I 09:53:33.808 NotebookApp] JupyterLab application directory is /opt/conda/share/jupyter/lab\n",
      "[I 09:53:33.814 NotebookApp] Serving notebooks from local directory: /home/jovyan\n",
      "[I 09:53:33.815 NotebookApp] The Jupyter Notebook is running at:\n",
      "[I 09:53:33.816 NotebookApp] http://dc4f4fb7c94a:8888/?token=6d48c7efd9c44841e4304522d1448f5bca1be02262a81943\n",
      "[I 09:53:33.817 NotebookApp]  or http://127.0.0.1:8888/?token=6d48c7efd9c44841e4304522d1448f5bca1be02262a81943\n",
      "[I 09:53:33.817 NotebookApp] Use Control-C to stop this server and shut down all kernels (twice to skip confirmation).\n",
      "[C 09:53:33.825 NotebookApp] \n",
      "    \n",
      "    To access the notebook, open this file in a browser:\n",
      "        file:///home/jovyan/.local/share/jupyter/runtime/nbserver-8-open.html\n",
      "    Or copy and paste one of these URLs:\n",
      "        http://dc4f4fb7c94a:8888/?token=6d48c7efd9c44841e4304522d1448f5bca1be02262a81943\n",
      "     or http://127.0.0.1:8888/?token=6d48c7efd9c44841e4304522d1448f5bca1be02262a81943\n"
     ]
    }
   ],
   "source": [
    "!docker logs practice_compose_jupyter_1"
   ]
  },
  {
   "cell_type": "code",
   "execution_count": null,
   "metadata": {},
   "outputs": [],
   "source": []
  }
 ],
 "metadata": {
  "kernelspec": {
   "display_name": "Python 3",
   "language": "python",
   "name": "python3"
  },
  "language_info": {
   "codemirror_mode": {
    "name": "ipython",
    "version": 3
   },
   "file_extension": ".py",
   "mimetype": "text/x-python",
   "name": "python",
   "nbconvert_exporter": "python",
   "pygments_lexer": "ipython3",
   "version": "3.8.10"
  }
 },
 "nbformat": 4,
 "nbformat_minor": 2
}
